{
  "cells": [
    {
      "cell_type": "markdown",
      "id": "3bf1eb04",
      "metadata": {
        "id": "3bf1eb04",
        "papermill": {
          "duration": 0.00934,
          "end_time": "2023-03-31T19:34:34.441007",
          "exception": false,
          "start_time": "2023-03-31T19:34:34.431667",
          "status": "completed"
        },
        "tags": []
      },
      "source": [
        "## Installing and Importing Required Libraries"
      ]
    },
    {
      "cell_type": "code",
      "execution_count": null,
      "id": "b3cc51b9",
      "metadata": {
        "execution": {
          "iopub.execute_input": "2023-03-31T19:34:34.459109Z",
          "iopub.status.busy": "2023-03-31T19:34:34.458673Z",
          "iopub.status.idle": "2023-03-31T19:35:28.146837Z",
          "shell.execute_reply": "2023-03-31T19:35:28.145725Z"
        },
        "id": "b3cc51b9",
        "outputId": "d186f89c-e03f-4c8e-d3e3-ae9ce0f502e9",
        "papermill": {
          "duration": 53.700275,
          "end_time": "2023-03-31T19:35:28.149599",
          "exception": false,
          "start_time": "2023-03-31T19:34:34.449324",
          "status": "completed"
        },
        "tags": [],
        "colab": {
          "base_uri": "https://localhost:8080/"
        }
      },
      "outputs": [
        {
          "output_type": "stream",
          "name": "stdout",
          "text": [
            "Looking in indexes: https://pypi.org/simple, https://us-python.pkg.dev/colab-wheels/public/simple/\n",
            "Looking in links: https://data.pyg.org/whl/torch-2.0.0+cu118.html\n",
            "Collecting torch-scatter\n",
            "  Downloading https://data.pyg.org/whl/torch-2.0.0%2Bcu118/torch_scatter-2.1.1%2Bpt20cu118-cp310-cp310-linux_x86_64.whl (10.2 MB)\n",
            "\u001b[2K     \u001b[90m━━━━━━━━━━━━━━━━━━━━━━━━━━━━━━━━━━━━━━━━\u001b[0m \u001b[32m10.2/10.2 MB\u001b[0m \u001b[31m50.9 MB/s\u001b[0m eta \u001b[36m0:00:00\u001b[0m\n",
            "\u001b[?25hInstalling collected packages: torch-scatter\n",
            "Successfully installed torch-scatter-2.1.1+pt20cu118\n",
            "Looking in indexes: https://pypi.org/simple, https://us-python.pkg.dev/colab-wheels/public/simple/\n",
            "Looking in links: https://data.pyg.org/whl/torch-2.0.0+cu118.html\n",
            "Collecting torch-sparse\n",
            "  Downloading https://data.pyg.org/whl/torch-2.0.0%2Bcu118/torch_sparse-0.6.17%2Bpt20cu118-cp310-cp310-linux_x86_64.whl (4.8 MB)\n",
            "\u001b[2K     \u001b[90m━━━━━━━━━━━━━━━━━━━━━━━━━━━━━━━━━━━━━━━━\u001b[0m \u001b[32m4.8/4.8 MB\u001b[0m \u001b[31m56.2 MB/s\u001b[0m eta \u001b[36m0:00:00\u001b[0m\n",
            "\u001b[?25hRequirement already satisfied: scipy in /usr/local/lib/python3.10/dist-packages (from torch-sparse) (1.10.1)\n",
            "Requirement already satisfied: numpy<1.27.0,>=1.19.5 in /usr/local/lib/python3.10/dist-packages (from scipy->torch-sparse) (1.22.4)\n",
            "Installing collected packages: torch-sparse\n",
            "Successfully installed torch-sparse-0.6.17+pt20cu118\n",
            "Looking in indexes: https://pypi.org/simple, https://us-python.pkg.dev/colab-wheels/public/simple/\n",
            "Looking in links: https://data.pyg.org/whl/torch-2.0.0+cu118.html\n",
            "Collecting torch-cluster\n",
            "  Downloading https://data.pyg.org/whl/torch-2.0.0%2Bcu118/torch_cluster-1.6.1%2Bpt20cu118-cp310-cp310-linux_x86_64.whl (3.3 MB)\n",
            "\u001b[2K     \u001b[90m━━━━━━━━━━━━━━━━━━━━━━━━━━━━━━━━━━━━━━━━\u001b[0m \u001b[32m3.3/3.3 MB\u001b[0m \u001b[31m40.9 MB/s\u001b[0m eta \u001b[36m0:00:00\u001b[0m\n",
            "\u001b[?25hRequirement already satisfied: scipy in /usr/local/lib/python3.10/dist-packages (from torch-cluster) (1.10.1)\n",
            "Requirement already satisfied: numpy<1.27.0,>=1.19.5 in /usr/local/lib/python3.10/dist-packages (from scipy->torch-cluster) (1.22.4)\n",
            "Installing collected packages: torch-cluster\n",
            "Successfully installed torch-cluster-1.6.1+pt20cu118\n",
            "Looking in indexes: https://pypi.org/simple, https://us-python.pkg.dev/colab-wheels/public/simple/\n",
            "Collecting git+https://github.com/pyg-team/pytorch_geometric.git\n",
            "  Cloning https://github.com/pyg-team/pytorch_geometric.git to /tmp/pip-req-build-dv0ww2xi\n",
            "  Running command git clone --filter=blob:none --quiet https://github.com/pyg-team/pytorch_geometric.git /tmp/pip-req-build-dv0ww2xi\n",
            "  Resolved https://github.com/pyg-team/pytorch_geometric.git to commit ec8fba0ab954593af5ebecfc0884472e0d2553bb\n",
            "  Installing build dependencies ... \u001b[?25l\u001b[?25hdone\n",
            "  Getting requirements to build wheel ... \u001b[?25l\u001b[?25hdone\n",
            "  Preparing metadata (pyproject.toml) ... \u001b[?25l\u001b[?25hdone\n",
            "Requirement already satisfied: tqdm in /usr/local/lib/python3.10/dist-packages (from torch_geometric==2.4.0) (4.65.0)\n",
            "Requirement already satisfied: numpy in /usr/local/lib/python3.10/dist-packages (from torch_geometric==2.4.0) (1.22.4)\n",
            "Requirement already satisfied: scipy in /usr/local/lib/python3.10/dist-packages (from torch_geometric==2.4.0) (1.10.1)\n",
            "Requirement already satisfied: jinja2 in /usr/local/lib/python3.10/dist-packages (from torch_geometric==2.4.0) (3.1.2)\n",
            "Requirement already satisfied: requests in /usr/local/lib/python3.10/dist-packages (from torch_geometric==2.4.0) (2.27.1)\n",
            "Requirement already satisfied: pyparsing in /usr/local/lib/python3.10/dist-packages (from torch_geometric==2.4.0) (3.0.9)\n",
            "Requirement already satisfied: scikit-learn in /usr/local/lib/python3.10/dist-packages (from torch_geometric==2.4.0) (1.2.2)\n",
            "Requirement already satisfied: psutil>=5.8.0 in /usr/local/lib/python3.10/dist-packages (from torch_geometric==2.4.0) (5.9.5)\n",
            "Requirement already satisfied: MarkupSafe>=2.0 in /usr/local/lib/python3.10/dist-packages (from jinja2->torch_geometric==2.4.0) (2.1.2)\n",
            "Requirement already satisfied: urllib3<1.27,>=1.21.1 in /usr/local/lib/python3.10/dist-packages (from requests->torch_geometric==2.4.0) (1.26.15)\n",
            "Requirement already satisfied: certifi>=2017.4.17 in /usr/local/lib/python3.10/dist-packages (from requests->torch_geometric==2.4.0) (2022.12.7)\n",
            "Requirement already satisfied: charset-normalizer~=2.0.0 in /usr/local/lib/python3.10/dist-packages (from requests->torch_geometric==2.4.0) (2.0.12)\n",
            "Requirement already satisfied: idna<4,>=2.5 in /usr/local/lib/python3.10/dist-packages (from requests->torch_geometric==2.4.0) (3.4)\n",
            "Requirement already satisfied: joblib>=1.1.1 in /usr/local/lib/python3.10/dist-packages (from scikit-learn->torch_geometric==2.4.0) (1.2.0)\n",
            "Requirement already satisfied: threadpoolctl>=2.0.0 in /usr/local/lib/python3.10/dist-packages (from scikit-learn->torch_geometric==2.4.0) (3.1.0)\n",
            "Building wheels for collected packages: torch_geometric\n",
            "  Building wheel for torch_geometric (pyproject.toml) ... \u001b[?25l\u001b[?25hdone\n",
            "  Created wheel for torch_geometric: filename=torch_geometric-2.4.0-py3-none-any.whl size=932810 sha256=2fa616821c8286c9986d7e6ef8e06495847bb7706b104cfccdd89a47f1b5577b\n",
            "  Stored in directory: /tmp/pip-ephem-wheel-cache-jkidqa5a/wheels/d3/78/eb/9e26525b948d19533f1688fb6c209cec8a0ba793d39b49ae8f\n",
            "Successfully built torch_geometric\n",
            "Installing collected packages: torch_geometric\n",
            "Successfully installed torch_geometric-2.4.0\n"
          ]
        }
      ],
      "source": [
        "import torch\n",
        "#!pip uninstall torch-scatter torch-sparse torch-geometric torch-cluster  --y\n",
        "!pip install torch-scatter -f https://data.pyg.org/whl/torch-{torch.__version__}.html\n",
        "!pip install torch-sparse -f https://data.pyg.org/whl/torch-{torch.__version__}.html\n",
        "!pip install torch-cluster -f https://data.pyg.org/whl/torch-{torch.__version__}.html\n",
        "!pip install git+https://github.com/pyg-team/pytorch_geometric.git"
      ]
    },
    {
      "cell_type": "code",
      "execution_count": null,
      "id": "d72dc8ce",
      "metadata": {
        "execution": {
          "iopub.execute_input": "2023-03-31T19:35:28.172304Z",
          "iopub.status.busy": "2023-03-31T19:35:28.171545Z",
          "iopub.status.idle": "2023-03-31T19:35:39.308025Z",
          "shell.execute_reply": "2023-03-31T19:35:39.307152Z"
        },
        "id": "d72dc8ce",
        "papermill": {
          "duration": 11.150728,
          "end_time": "2023-03-31T19:35:39.310519",
          "exception": false,
          "start_time": "2023-03-31T19:35:28.159791",
          "status": "completed"
        },
        "tags": []
      },
      "outputs": [],
      "source": [
        "import pandas as pd\n",
        "import numpy as np\n",
        "from tqdm.notebook import tqdm\n",
        "import random\n",
        "import math\n",
        "import os\n",
        "import matplotlib.pyplot as plt\n",
        "import string\n",
        "\n",
        "import spacy\n",
        "from spacy.tokens import Doc\n",
        "from spacy import displacy\n",
        "from scipy.sparse import coo_matrix\n",
        "\n",
        "import torch\n",
        "from torch import nn\n",
        "import torch.nn.functional as F\n",
        "from torch.optim import Adam\n",
        "from torch.optim import lr_scheduler\n",
        "from torch_geometric.data import Data\n",
        "from torch_geometric.data import InMemoryDataset\n",
        "from torch_geometric.nn import GCNConv, SAGEConv, GATConv, TransformerConv, GATv2Conv, ChebConv, ResGatedGraphConv\n",
        "import torch_geometric.nn as pyg_nn\n",
        "from torch_geometric.loader import DataLoader"
      ]
    },
    {
      "cell_type": "markdown",
      "id": "49655d1e",
      "metadata": {
        "id": "49655d1e",
        "papermill": {
          "duration": 0.009563,
          "end_time": "2023-03-31T19:35:39.330051",
          "exception": false,
          "start_time": "2023-03-31T19:35:39.320488",
          "status": "completed"
        },
        "tags": []
      },
      "source": [
        "## Reading training data"
      ]
    },
    {
      "cell_type": "code",
      "source": [
        "df_train = pd.read_csv(\"/content/NewTrain.csvv\")\n",
        "df_train.head()"
      ],
      "metadata": {
        "colab": {
          "base_uri": "https://localhost:8080/",
          "height": 698
        },
        "id": "mHC3FkM8pjmm",
        "outputId": "2257f78b-8fe2-4859-b5e1-f073fe40e496"
      },
      "id": "mHC3FkM8pjmm",
      "execution_count": null,
      "outputs": [
        {
          "output_type": "execute_result",
          "data": {
            "text/plain": [
              "   qa_id                                     question_title  \\\n",
              "0      0  What am I losing when using extension tubes in...   \n",
              "1      1  What is the distinction between a city and a s...   \n",
              "2      2  Maximum protusion length for through-hole comp...   \n",
              "3      3              Can an affidavit be used in Beit Din?   \n",
              "4      5       How do you make a binary image in Photoshop?   \n",
              "\n",
              "                                       question_body question_user_name  \\\n",
              "0  What am I losing when using extension tubes in...               ysap   \n",
              "1  What is the distinction between a city and a s...      russellpierce   \n",
              "2  Maximum protusion length for through-hole comp...          Joe Baker   \n",
              "3  Can an affidavit be used in Beit Din? An affid...         Scimonster   \n",
              "4  How do you make a binary image in Photoshop? I...            leigero   \n",
              "\n",
              "                                  question_user_page  \\\n",
              "0         https://photo.stackexchange.com/users/1024   \n",
              "1           https://rpg.stackexchange.com/users/8774   \n",
              "2  https://electronics.stackexchange.com/users/10157   \n",
              "3       https://judaism.stackexchange.com/users/5151   \n",
              "4  https://graphicdesign.stackexchange.com/users/...   \n",
              "\n",
              "                                              answer answer_user_name  \\\n",
              "0  I just got extension tubes, so here's the skin...           rfusca   \n",
              "1  It might be helpful to look into the definitio...     Erik Schmidt   \n",
              "2  Do you even need grooves?  We make several pro...      Dwayne Reid   \n",
              "3  Sending an \"affidavit\" it is a dispute between...    Y     e     z   \n",
              "4  Check out Image Trace in Adobe Illustrator. \\n...             q2ra   \n",
              "\n",
              "                                    answer_user_page  \\\n",
              "0         https://photo.stackexchange.com/users/1917   \n",
              "1           https://rpg.stackexchange.com/users/1871   \n",
              "2  https://electronics.stackexchange.com/users/64754   \n",
              "3       https://judaism.stackexchange.com/users/4794   \n",
              "4  https://graphicdesign.stackexchange.com/users/...   \n",
              "\n",
              "                                                 url   category  ...  \\\n",
              "0  http://photo.stackexchange.com/questions/9169/...  LIFE_ARTS  ...   \n",
              "1  http://rpg.stackexchange.com/questions/47820/w...    CULTURE  ...   \n",
              "2  http://electronics.stackexchange.com/questions...    SCIENCE  ...   \n",
              "3  http://judaism.stackexchange.com/questions/551...    CULTURE  ...   \n",
              "4  http://graphicdesign.stackexchange.com/questio...  LIFE_ARTS  ...   \n",
              "\n",
              "  question_well_written  answer_helpful  answer_level_of_information  \\\n",
              "0              1.000000        1.000000                     0.666667   \n",
              "1              0.888889        0.888889                     0.555556   \n",
              "2              0.777778        0.777778                     0.555556   \n",
              "3              0.888889        0.833333                     0.333333   \n",
              "4              1.000000        1.000000                     0.666667   \n",
              "\n",
              "   answer_plausible  answer_relevance  answer_satisfaction  \\\n",
              "0          1.000000          1.000000             0.800000   \n",
              "1          0.888889          0.888889             0.666667   \n",
              "2          1.000000          1.000000             0.666667   \n",
              "3          0.833333          1.000000             0.800000   \n",
              "4          1.000000          1.000000             0.800000   \n",
              "\n",
              "   answer_type_instructions  answer_type_procedure  \\\n",
              "0                       1.0               0.000000   \n",
              "1                       0.0               0.000000   \n",
              "2                       0.0               0.333333   \n",
              "3                       0.0               0.000000   \n",
              "4                       1.0               0.000000   \n",
              "\n",
              "   answer_type_reason_explanation  answer_well_written  \n",
              "0                        0.000000             1.000000  \n",
              "1                        0.666667             0.888889  \n",
              "2                        1.000000             0.888889  \n",
              "3                        1.000000             1.000000  \n",
              "4                        1.000000             1.000000  \n",
              "\n",
              "[5 rows x 41 columns]"
            ],
            "text/html": [
              "\n",
              "  <div id=\"df-a6b49fa5-93d9-40eb-844e-5ca8e0418ab5\">\n",
              "    <div class=\"colab-df-container\">\n",
              "      <div>\n",
              "<style scoped>\n",
              "    .dataframe tbody tr th:only-of-type {\n",
              "        vertical-align: middle;\n",
              "    }\n",
              "\n",
              "    .dataframe tbody tr th {\n",
              "        vertical-align: top;\n",
              "    }\n",
              "\n",
              "    .dataframe thead th {\n",
              "        text-align: right;\n",
              "    }\n",
              "</style>\n",
              "<table border=\"1\" class=\"dataframe\">\n",
              "  <thead>\n",
              "    <tr style=\"text-align: right;\">\n",
              "      <th></th>\n",
              "      <th>qa_id</th>\n",
              "      <th>question_title</th>\n",
              "      <th>question_body</th>\n",
              "      <th>question_user_name</th>\n",
              "      <th>question_user_page</th>\n",
              "      <th>answer</th>\n",
              "      <th>answer_user_name</th>\n",
              "      <th>answer_user_page</th>\n",
              "      <th>url</th>\n",
              "      <th>category</th>\n",
              "      <th>...</th>\n",
              "      <th>question_well_written</th>\n",
              "      <th>answer_helpful</th>\n",
              "      <th>answer_level_of_information</th>\n",
              "      <th>answer_plausible</th>\n",
              "      <th>answer_relevance</th>\n",
              "      <th>answer_satisfaction</th>\n",
              "      <th>answer_type_instructions</th>\n",
              "      <th>answer_type_procedure</th>\n",
              "      <th>answer_type_reason_explanation</th>\n",
              "      <th>answer_well_written</th>\n",
              "    </tr>\n",
              "  </thead>\n",
              "  <tbody>\n",
              "    <tr>\n",
              "      <th>0</th>\n",
              "      <td>0</td>\n",
              "      <td>What am I losing when using extension tubes in...</td>\n",
              "      <td>What am I losing when using extension tubes in...</td>\n",
              "      <td>ysap</td>\n",
              "      <td>https://photo.stackexchange.com/users/1024</td>\n",
              "      <td>I just got extension tubes, so here's the skin...</td>\n",
              "      <td>rfusca</td>\n",
              "      <td>https://photo.stackexchange.com/users/1917</td>\n",
              "      <td>http://photo.stackexchange.com/questions/9169/...</td>\n",
              "      <td>LIFE_ARTS</td>\n",
              "      <td>...</td>\n",
              "      <td>1.000000</td>\n",
              "      <td>1.000000</td>\n",
              "      <td>0.666667</td>\n",
              "      <td>1.000000</td>\n",
              "      <td>1.000000</td>\n",
              "      <td>0.800000</td>\n",
              "      <td>1.0</td>\n",
              "      <td>0.000000</td>\n",
              "      <td>0.000000</td>\n",
              "      <td>1.000000</td>\n",
              "    </tr>\n",
              "    <tr>\n",
              "      <th>1</th>\n",
              "      <td>1</td>\n",
              "      <td>What is the distinction between a city and a s...</td>\n",
              "      <td>What is the distinction between a city and a s...</td>\n",
              "      <td>russellpierce</td>\n",
              "      <td>https://rpg.stackexchange.com/users/8774</td>\n",
              "      <td>It might be helpful to look into the definitio...</td>\n",
              "      <td>Erik Schmidt</td>\n",
              "      <td>https://rpg.stackexchange.com/users/1871</td>\n",
              "      <td>http://rpg.stackexchange.com/questions/47820/w...</td>\n",
              "      <td>CULTURE</td>\n",
              "      <td>...</td>\n",
              "      <td>0.888889</td>\n",
              "      <td>0.888889</td>\n",
              "      <td>0.555556</td>\n",
              "      <td>0.888889</td>\n",
              "      <td>0.888889</td>\n",
              "      <td>0.666667</td>\n",
              "      <td>0.0</td>\n",
              "      <td>0.000000</td>\n",
              "      <td>0.666667</td>\n",
              "      <td>0.888889</td>\n",
              "    </tr>\n",
              "    <tr>\n",
              "      <th>2</th>\n",
              "      <td>2</td>\n",
              "      <td>Maximum protusion length for through-hole comp...</td>\n",
              "      <td>Maximum protusion length for through-hole comp...</td>\n",
              "      <td>Joe Baker</td>\n",
              "      <td>https://electronics.stackexchange.com/users/10157</td>\n",
              "      <td>Do you even need grooves?  We make several pro...</td>\n",
              "      <td>Dwayne Reid</td>\n",
              "      <td>https://electronics.stackexchange.com/users/64754</td>\n",
              "      <td>http://electronics.stackexchange.com/questions...</td>\n",
              "      <td>SCIENCE</td>\n",
              "      <td>...</td>\n",
              "      <td>0.777778</td>\n",
              "      <td>0.777778</td>\n",
              "      <td>0.555556</td>\n",
              "      <td>1.000000</td>\n",
              "      <td>1.000000</td>\n",
              "      <td>0.666667</td>\n",
              "      <td>0.0</td>\n",
              "      <td>0.333333</td>\n",
              "      <td>1.000000</td>\n",
              "      <td>0.888889</td>\n",
              "    </tr>\n",
              "    <tr>\n",
              "      <th>3</th>\n",
              "      <td>3</td>\n",
              "      <td>Can an affidavit be used in Beit Din?</td>\n",
              "      <td>Can an affidavit be used in Beit Din? An affid...</td>\n",
              "      <td>Scimonster</td>\n",
              "      <td>https://judaism.stackexchange.com/users/5151</td>\n",
              "      <td>Sending an \"affidavit\" it is a dispute between...</td>\n",
              "      <td>Y     e     z</td>\n",
              "      <td>https://judaism.stackexchange.com/users/4794</td>\n",
              "      <td>http://judaism.stackexchange.com/questions/551...</td>\n",
              "      <td>CULTURE</td>\n",
              "      <td>...</td>\n",
              "      <td>0.888889</td>\n",
              "      <td>0.833333</td>\n",
              "      <td>0.333333</td>\n",
              "      <td>0.833333</td>\n",
              "      <td>1.000000</td>\n",
              "      <td>0.800000</td>\n",
              "      <td>0.0</td>\n",
              "      <td>0.000000</td>\n",
              "      <td>1.000000</td>\n",
              "      <td>1.000000</td>\n",
              "    </tr>\n",
              "    <tr>\n",
              "      <th>4</th>\n",
              "      <td>5</td>\n",
              "      <td>How do you make a binary image in Photoshop?</td>\n",
              "      <td>How do you make a binary image in Photoshop? I...</td>\n",
              "      <td>leigero</td>\n",
              "      <td>https://graphicdesign.stackexchange.com/users/...</td>\n",
              "      <td>Check out Image Trace in Adobe Illustrator. \\n...</td>\n",
              "      <td>q2ra</td>\n",
              "      <td>https://graphicdesign.stackexchange.com/users/...</td>\n",
              "      <td>http://graphicdesign.stackexchange.com/questio...</td>\n",
              "      <td>LIFE_ARTS</td>\n",
              "      <td>...</td>\n",
              "      <td>1.000000</td>\n",
              "      <td>1.000000</td>\n",
              "      <td>0.666667</td>\n",
              "      <td>1.000000</td>\n",
              "      <td>1.000000</td>\n",
              "      <td>0.800000</td>\n",
              "      <td>1.0</td>\n",
              "      <td>0.000000</td>\n",
              "      <td>1.000000</td>\n",
              "      <td>1.000000</td>\n",
              "    </tr>\n",
              "  </tbody>\n",
              "</table>\n",
              "<p>5 rows × 41 columns</p>\n",
              "</div>\n",
              "      <button class=\"colab-df-convert\" onclick=\"convertToInteractive('df-a6b49fa5-93d9-40eb-844e-5ca8e0418ab5')\"\n",
              "              title=\"Convert this dataframe to an interactive table.\"\n",
              "              style=\"display:none;\">\n",
              "        \n",
              "  <svg xmlns=\"http://www.w3.org/2000/svg\" height=\"24px\"viewBox=\"0 0 24 24\"\n",
              "       width=\"24px\">\n",
              "    <path d=\"M0 0h24v24H0V0z\" fill=\"none\"/>\n",
              "    <path d=\"M18.56 5.44l.94 2.06.94-2.06 2.06-.94-2.06-.94-.94-2.06-.94 2.06-2.06.94zm-11 1L8.5 8.5l.94-2.06 2.06-.94-2.06-.94L8.5 2.5l-.94 2.06-2.06.94zm10 10l.94 2.06.94-2.06 2.06-.94-2.06-.94-.94-2.06-.94 2.06-2.06.94z\"/><path d=\"M17.41 7.96l-1.37-1.37c-.4-.4-.92-.59-1.43-.59-.52 0-1.04.2-1.43.59L10.3 9.45l-7.72 7.72c-.78.78-.78 2.05 0 2.83L4 21.41c.39.39.9.59 1.41.59.51 0 1.02-.2 1.41-.59l7.78-7.78 2.81-2.81c.8-.78.8-2.07 0-2.86zM5.41 20L4 18.59l7.72-7.72 1.47 1.35L5.41 20z\"/>\n",
              "  </svg>\n",
              "      </button>\n",
              "      \n",
              "  <style>\n",
              "    .colab-df-container {\n",
              "      display:flex;\n",
              "      flex-wrap:wrap;\n",
              "      gap: 12px;\n",
              "    }\n",
              "\n",
              "    .colab-df-convert {\n",
              "      background-color: #E8F0FE;\n",
              "      border: none;\n",
              "      border-radius: 50%;\n",
              "      cursor: pointer;\n",
              "      display: none;\n",
              "      fill: #1967D2;\n",
              "      height: 32px;\n",
              "      padding: 0 0 0 0;\n",
              "      width: 32px;\n",
              "    }\n",
              "\n",
              "    .colab-df-convert:hover {\n",
              "      background-color: #E2EBFA;\n",
              "      box-shadow: 0px 1px 2px rgba(60, 64, 67, 0.3), 0px 1px 3px 1px rgba(60, 64, 67, 0.15);\n",
              "      fill: #174EA6;\n",
              "    }\n",
              "\n",
              "    [theme=dark] .colab-df-convert {\n",
              "      background-color: #3B4455;\n",
              "      fill: #D2E3FC;\n",
              "    }\n",
              "\n",
              "    [theme=dark] .colab-df-convert:hover {\n",
              "      background-color: #434B5C;\n",
              "      box-shadow: 0px 1px 3px 1px rgba(0, 0, 0, 0.15);\n",
              "      filter: drop-shadow(0px 1px 2px rgba(0, 0, 0, 0.3));\n",
              "      fill: #FFFFFF;\n",
              "    }\n",
              "  </style>\n",
              "\n",
              "      <script>\n",
              "        const buttonEl =\n",
              "          document.querySelector('#df-a6b49fa5-93d9-40eb-844e-5ca8e0418ab5 button.colab-df-convert');\n",
              "        buttonEl.style.display =\n",
              "          google.colab.kernel.accessAllowed ? 'block' : 'none';\n",
              "\n",
              "        async function convertToInteractive(key) {\n",
              "          const element = document.querySelector('#df-a6b49fa5-93d9-40eb-844e-5ca8e0418ab5');\n",
              "          const dataTable =\n",
              "            await google.colab.kernel.invokeFunction('convertToInteractive',\n",
              "                                                     [key], {});\n",
              "          if (!dataTable) return;\n",
              "\n",
              "          const docLinkHtml = 'Like what you see? Visit the ' +\n",
              "            '<a target=\"_blank\" href=https://colab.research.google.com/notebooks/data_table.ipynb>data table notebook</a>'\n",
              "            + ' to learn more about interactive tables.';\n",
              "          element.innerHTML = '';\n",
              "          dataTable['output_type'] = 'display_data';\n",
              "          await google.colab.output.renderOutput(dataTable, element);\n",
              "          const docLink = document.createElement('div');\n",
              "          docLink.innerHTML = docLinkHtml;\n",
              "          element.appendChild(docLink);\n",
              "        }\n",
              "      </script>\n",
              "    </div>\n",
              "  </div>\n",
              "  "
            ]
          },
          "metadata": {},
          "execution_count": 23
        }
      ]
    },
    {
      "cell_type": "code",
      "execution_count": null,
      "id": "01259009",
      "metadata": {
        "execution": {
          "iopub.execute_input": "2023-03-31T19:35:39.862580Z",
          "iopub.status.busy": "2023-03-31T19:35:39.861994Z",
          "iopub.status.idle": "2023-03-31T19:35:39.913131Z",
          "shell.execute_reply": "2023-03-31T19:35:39.912202Z"
        },
        "id": "01259009",
        "outputId": "417f9023-81e7-46e9-e50b-403019094705",
        "papermill": {
          "duration": 0.066738,
          "end_time": "2023-03-31T19:35:39.915235",
          "exception": false,
          "start_time": "2023-03-31T19:35:39.848497",
          "status": "completed"
        },
        "tags": []
      },
      "outputs": [
        {
          "data": {
            "text/html": [
              "<div>\n",
              "<style scoped>\n",
              "    .dataframe tbody tr th:only-of-type {\n",
              "        vertical-align: middle;\n",
              "    }\n",
              "\n",
              "    .dataframe tbody tr th {\n",
              "        vertical-align: top;\n",
              "    }\n",
              "\n",
              "    .dataframe thead th {\n",
              "        text-align: right;\n",
              "    }\n",
              "</style>\n",
              "<table border=\"1\" class=\"dataframe\">\n",
              "  <thead>\n",
              "    <tr style=\"text-align: right;\">\n",
              "      <th></th>\n",
              "      <th>qa_id</th>\n",
              "      <th>question_title</th>\n",
              "      <th>question_body</th>\n",
              "      <th>question_user_name</th>\n",
              "      <th>question_user_page</th>\n",
              "      <th>answer</th>\n",
              "      <th>answer_user_name</th>\n",
              "      <th>answer_user_page</th>\n",
              "      <th>url</th>\n",
              "      <th>category</th>\n",
              "      <th>host</th>\n",
              "    </tr>\n",
              "  </thead>\n",
              "  <tbody>\n",
              "    <tr>\n",
              "      <th>0</th>\n",
              "      <td>39</td>\n",
              "      <td>Will leaving corpses lying around upset my pri...</td>\n",
              "      <td>Will leaving corpses lying around upset my pri...</td>\n",
              "      <td>Dylan</td>\n",
              "      <td>https://gaming.stackexchange.com/users/64471</td>\n",
              "      <td>There is no consequence for leaving corpses an...</td>\n",
              "      <td>Nelson868</td>\n",
              "      <td>https://gaming.stackexchange.com/users/97324</td>\n",
              "      <td>http://gaming.stackexchange.com/questions/1979...</td>\n",
              "      <td>CULTURE</td>\n",
              "      <td>gaming.stackexchange.com</td>\n",
              "    </tr>\n",
              "    <tr>\n",
              "      <th>1</th>\n",
              "      <td>46</td>\n",
              "      <td>Url link to feature image in the portfolio</td>\n",
              "      <td>Url link to feature image in the portfolio I a...</td>\n",
              "      <td>Anu</td>\n",
              "      <td>https://wordpress.stackexchange.com/users/72927</td>\n",
              "      <td>I think it is possible with custom fields.\\n\\n...</td>\n",
              "      <td>Irina</td>\n",
              "      <td>https://wordpress.stackexchange.com/users/27233</td>\n",
              "      <td>http://wordpress.stackexchange.com/questions/1...</td>\n",
              "      <td>TECHNOLOGY</td>\n",
              "      <td>wordpress.stackexchange.com</td>\n",
              "    </tr>\n",
              "    <tr>\n",
              "      <th>2</th>\n",
              "      <td>70</td>\n",
              "      <td>Is accuracy, recoil or bullet spread affected ...</td>\n",
              "      <td>Is accuracy, recoil or bullet spread affected ...</td>\n",
              "      <td>Konsta</td>\n",
              "      <td>https://gaming.stackexchange.com/users/37545</td>\n",
              "      <td>You do not have armour in the screenshots. Thi...</td>\n",
              "      <td>Damon Smithies</td>\n",
              "      <td>https://gaming.stackexchange.com/users/70641</td>\n",
              "      <td>http://gaming.stackexchange.com/questions/2154...</td>\n",
              "      <td>CULTURE</td>\n",
              "      <td>gaming.stackexchange.com</td>\n",
              "    </tr>\n",
              "    <tr>\n",
              "      <th>3</th>\n",
              "      <td>132</td>\n",
              "      <td>Suddenly got an I/O error from my external HDD</td>\n",
              "      <td>Suddenly got an I/O error from my external HDD...</td>\n",
              "      <td>robbannn</td>\n",
              "      <td>https://raspberrypi.stackexchange.com/users/17341</td>\n",
              "      <td>Your Western Digital hard drive is disappearin...</td>\n",
              "      <td>HeatfanJohn</td>\n",
              "      <td>https://raspberrypi.stackexchange.com/users/1311</td>\n",
              "      <td>http://raspberrypi.stackexchange.com/questions...</td>\n",
              "      <td>TECHNOLOGY</td>\n",
              "      <td>raspberrypi.stackexchange.com</td>\n",
              "    </tr>\n",
              "    <tr>\n",
              "      <th>4</th>\n",
              "      <td>200</td>\n",
              "      <td>Passenger Name - Flight Booking Passenger only...</td>\n",
              "      <td>Passenger Name - Flight Booking Passenger only...</td>\n",
              "      <td>Amit</td>\n",
              "      <td>https://travel.stackexchange.com/users/29089</td>\n",
              "      <td>I called two persons who work for Saudia (tick...</td>\n",
              "      <td>Nean Der Thal</td>\n",
              "      <td>https://travel.stackexchange.com/users/10051</td>\n",
              "      <td>http://travel.stackexchange.com/questions/4704...</td>\n",
              "      <td>CULTURE</td>\n",
              "      <td>travel.stackexchange.com</td>\n",
              "    </tr>\n",
              "  </tbody>\n",
              "</table>\n",
              "</div>"
            ],
            "text/plain": [
              "   qa_id                                     question_title  \\\n",
              "0     39  Will leaving corpses lying around upset my pri...   \n",
              "1     46         Url link to feature image in the portfolio   \n",
              "2     70  Is accuracy, recoil or bullet spread affected ...   \n",
              "3    132     Suddenly got an I/O error from my external HDD   \n",
              "4    200  Passenger Name - Flight Booking Passenger only...   \n",
              "\n",
              "                                       question_body question_user_name  \\\n",
              "0  Will leaving corpses lying around upset my pri...              Dylan   \n",
              "1  Url link to feature image in the portfolio I a...                Anu   \n",
              "2  Is accuracy, recoil or bullet spread affected ...             Konsta   \n",
              "3  Suddenly got an I/O error from my external HDD...           robbannn   \n",
              "4  Passenger Name - Flight Booking Passenger only...               Amit   \n",
              "\n",
              "                                  question_user_page  \\\n",
              "0       https://gaming.stackexchange.com/users/64471   \n",
              "1    https://wordpress.stackexchange.com/users/72927   \n",
              "2       https://gaming.stackexchange.com/users/37545   \n",
              "3  https://raspberrypi.stackexchange.com/users/17341   \n",
              "4       https://travel.stackexchange.com/users/29089   \n",
              "\n",
              "                                              answer answer_user_name  \\\n",
              "0  There is no consequence for leaving corpses an...        Nelson868   \n",
              "1  I think it is possible with custom fields.\\n\\n...            Irina   \n",
              "2  You do not have armour in the screenshots. Thi...   Damon Smithies   \n",
              "3  Your Western Digital hard drive is disappearin...      HeatfanJohn   \n",
              "4  I called two persons who work for Saudia (tick...    Nean Der Thal   \n",
              "\n",
              "                                   answer_user_page  \\\n",
              "0      https://gaming.stackexchange.com/users/97324   \n",
              "1   https://wordpress.stackexchange.com/users/27233   \n",
              "2      https://gaming.stackexchange.com/users/70641   \n",
              "3  https://raspberrypi.stackexchange.com/users/1311   \n",
              "4      https://travel.stackexchange.com/users/10051   \n",
              "\n",
              "                                                 url    category  \\\n",
              "0  http://gaming.stackexchange.com/questions/1979...     CULTURE   \n",
              "1  http://wordpress.stackexchange.com/questions/1...  TECHNOLOGY   \n",
              "2  http://gaming.stackexchange.com/questions/2154...     CULTURE   \n",
              "3  http://raspberrypi.stackexchange.com/questions...  TECHNOLOGY   \n",
              "4  http://travel.stackexchange.com/questions/4704...     CULTURE   \n",
              "\n",
              "                            host  \n",
              "0       gaming.stackexchange.com  \n",
              "1    wordpress.stackexchange.com  \n",
              "2       gaming.stackexchange.com  \n",
              "3  raspberrypi.stackexchange.com  \n",
              "4       travel.stackexchange.com  "
            ]
          },
          "execution_count": 4,
          "metadata": {},
          "output_type": "execute_result"
        }
      ],
      "source": [
        "df_test = pd.read_csv(\"/content/NewTest.csv\")\n",
        "df_test.head()"
      ]
    },
    {
      "cell_type": "code",
      "execution_count": null,
      "id": "4f20d80a",
      "metadata": {
        "execution": {
          "iopub.execute_input": "2023-03-31T19:35:39.938191Z",
          "iopub.status.busy": "2023-03-31T19:35:39.937220Z",
          "iopub.status.idle": "2023-03-31T19:35:39.943513Z",
          "shell.execute_reply": "2023-03-31T19:35:39.942835Z"
        },
        "id": "4f20d80a",
        "outputId": "3a016919-386b-42d2-e4bb-18dd49a4f9bd",
        "papermill": {
          "duration": 0.019528,
          "end_time": "2023-03-31T19:35:39.945453",
          "exception": false,
          "start_time": "2023-03-31T19:35:39.925925",
          "status": "completed"
        },
        "tags": [],
        "colab": {
          "base_uri": "https://localhost:8080/"
        }
      },
      "outputs": [
        {
          "output_type": "execute_result",
          "data": {
            "text/plain": [
              "(6079, 41)"
            ]
          },
          "metadata": {},
          "execution_count": 24
        }
      ],
      "source": [
        "df_train.shape"
      ]
    },
    {
      "cell_type": "code",
      "execution_count": null,
      "id": "f474bb67",
      "metadata": {
        "execution": {
          "iopub.execute_input": "2023-03-31T19:35:39.967743Z",
          "iopub.status.busy": "2023-03-31T19:35:39.966968Z",
          "iopub.status.idle": "2023-03-31T19:35:39.973499Z",
          "shell.execute_reply": "2023-03-31T19:35:39.972789Z"
        },
        "id": "f474bb67",
        "outputId": "5822364e-9a49-43bb-8333-409aafa02684",
        "papermill": {
          "duration": 0.01962,
          "end_time": "2023-03-31T19:35:39.975415",
          "exception": false,
          "start_time": "2023-03-31T19:35:39.955795",
          "status": "completed"
        },
        "tags": [],
        "colab": {
          "base_uri": "https://localhost:8080/"
        }
      },
      "outputs": [
        {
          "output_type": "execute_result",
          "data": {
            "text/plain": [
              "['question_asker_intent_understanding',\n",
              " 'question_body_critical',\n",
              " 'question_conversational',\n",
              " 'question_expect_short_answer',\n",
              " 'question_fact_seeking',\n",
              " 'question_has_commonly_accepted_answer',\n",
              " 'question_interestingness_others',\n",
              " 'question_interestingness_self',\n",
              " 'question_multi_intent',\n",
              " 'question_not_really_a_question',\n",
              " 'question_opinion_seeking',\n",
              " 'question_type_choice',\n",
              " 'question_type_compare',\n",
              " 'question_type_consequence',\n",
              " 'question_type_definition',\n",
              " 'question_type_entity',\n",
              " 'question_type_instructions',\n",
              " 'question_type_procedure',\n",
              " 'question_type_reason_explanation',\n",
              " 'question_type_spelling',\n",
              " 'question_well_written',\n",
              " 'answer_helpful',\n",
              " 'answer_level_of_information',\n",
              " 'answer_plausible',\n",
              " 'answer_relevance',\n",
              " 'answer_satisfaction',\n",
              " 'answer_type_instructions',\n",
              " 'answer_type_procedure',\n",
              " 'answer_type_reason_explanation',\n",
              " 'answer_well_written']"
            ]
          },
          "metadata": {},
          "execution_count": 25
        }
      ],
      "source": [
        "target_col_names = df_train.columns[-30:].tolist()\n",
        "target_col_names"
      ]
    },
    {
      "cell_type": "markdown",
      "id": "d17f3ff8",
      "metadata": {
        "id": "d17f3ff8",
        "papermill": {
          "duration": 0.010237,
          "end_time": "2023-03-31T19:35:39.996166",
          "exception": false,
          "start_time": "2023-03-31T19:35:39.985929",
          "status": "completed"
        },
        "tags": []
      },
      "source": [
        "## Build a tokenizer and Graph Building"
      ]
    },
    {
      "cell_type": "code",
      "execution_count": null,
      "id": "47395137",
      "metadata": {
        "execution": {
          "iopub.execute_input": "2023-03-31T19:35:40.018671Z",
          "iopub.status.busy": "2023-03-31T19:35:40.018056Z",
          "iopub.status.idle": "2023-03-31T19:35:40.029638Z",
          "shell.execute_reply": "2023-03-31T19:35:40.028919Z"
        },
        "id": "47395137",
        "papermill": {
          "duration": 0.024993,
          "end_time": "2023-03-31T19:35:40.031511",
          "exception": false,
          "start_time": "2023-03-31T19:35:40.006518",
          "status": "completed"
        },
        "tags": []
      },
      "outputs": [],
      "source": [
        "class Tokenizer(object):\n",
        "    def __init__(self, word2idx=None, nlp_model=\"en_core_web_sm\"):\n",
        "        # https://spacy.io/docs/usage/processing-text\n",
        "        self.nlp = spacy.load(nlp_model)\n",
        "        if word2idx is None:\n",
        "            self.word2idx = {}\n",
        "            self.idx2word = {}\n",
        "            self.idx = 0\n",
        "            self.word2idx['<pad>'] = self.idx  # '<pad>': 0\n",
        "            self.idx2word[self.idx] = '<pad>'\n",
        "            self.idx += 1\n",
        "            self.word2idx['<unk>'] = self.idx  # '<unk>': 1\n",
        "            self.idx2word[self.idx] = '<unk>'\n",
        "            self.idx += 1\n",
        "        else:\n",
        "            self.word2idx = word2idx\n",
        "            self.idx2word = {v:k for k,v in word2idx.items()}\n",
        "\n",
        "    def fit_on_doc(self, doc:spacy.tokens.doc.Doc):\n",
        "        for word in doc:\n",
        "            word = str(word).lower()\n",
        "            if word not in self.word2idx:\n",
        "                self.word2idx[word] = self.idx\n",
        "                self.idx2word[self.idx] = word\n",
        "                self.idx += 1\n",
        "\n",
        "    def text_to_doc(self, text):\n",
        "        return self.nlp(text)\n",
        "\n",
        "    def doc_to_sequence(self, doc:spacy.tokens.doc.Doc):\n",
        "        sequence = []\n",
        "        for w in doc:\n",
        "            w = str(w).lower()\n",
        "            word_id = self.word2idx.get(w, -1)\n",
        "            if word_id == -1:\n",
        "                word_id = self.word2idx['<unk>']\n",
        "            sequence.append(word_id)\n",
        "        if len(sequence) == 0:\n",
        "            sequence = [0]\n",
        "        return np.array(sequence, dtype=np.int32)\n",
        "\n",
        "    def doc_to_adj(self, doc:spacy.tokens.doc.Doc):\n",
        "        matrix = np.zeros((len(doc), len(doc))).astype('int32')\n",
        "        for token in doc:\n",
        "            for child in token.children:\n",
        "                matrix[token.i][child.i] = 1\n",
        "                matrix[child.i][token.i] = 1\n",
        "        return matrix"
      ]
    },
    {
      "cell_type": "code",
      "execution_count": null,
      "id": "a8407c9d",
      "metadata": {
        "execution": {
          "iopub.execute_input": "2023-03-31T19:35:40.053556Z",
          "iopub.status.busy": "2023-03-31T19:35:40.053277Z",
          "iopub.status.idle": "2023-03-31T19:35:40.752874Z",
          "shell.execute_reply": "2023-03-31T19:35:40.751766Z"
        },
        "id": "a8407c9d",
        "papermill": {
          "duration": 0.713647,
          "end_time": "2023-03-31T19:35:40.755466",
          "exception": false,
          "start_time": "2023-03-31T19:35:40.041819",
          "status": "completed"
        },
        "tags": []
      },
      "outputs": [],
      "source": [
        "tokenizer = Tokenizer()"
      ]
    },
    {
      "cell_type": "code",
      "execution_count": null,
      "id": "56490106",
      "metadata": {
        "execution": {
          "iopub.execute_input": "2023-03-31T19:35:40.808662Z",
          "iopub.status.busy": "2023-03-31T19:35:40.808180Z",
          "iopub.status.idle": "2023-03-31T19:40:14.956466Z",
          "shell.execute_reply": "2023-03-31T19:40:14.955302Z"
        },
        "id": "56490106",
        "outputId": "c6686e99-6a8c-4138-cfbb-61cb3ed3a9ac",
        "papermill": {
          "duration": 274.162371,
          "end_time": "2023-03-31T19:40:14.958815",
          "exception": false,
          "start_time": "2023-03-31T19:35:40.796444",
          "status": "completed"
        },
        "tags": [],
        "colab": {
          "referenced_widgets": [
            "7809cd5eab6140d69422bf7a8b4bacc8",
            "8d55f27f37d44eb0995ca5a26f794bd2",
            "69babf2a55eb4a85a43f8b2be1f369f5",
            "0fe31154fd694611830abb248eee20d4",
            "12d7f790ea194da8a0455ec6c5443d4c",
            "3c07c36e38574deb9f9e3ac4f4deda78",
            "438148708881480bb4945413e7c013db",
            "f09f7511e544436b89d82df4971f5024",
            "b6b9b6f38ea04fa2a93b9c22926cd052",
            "8ecb0555b64046e0a17b7ab93cbeb0d8",
            "cb331d9c25284a20ab3e7dabfb9f4620"
          ],
          "base_uri": "https://localhost:8080/",
          "height": 49
        }
      },
      "outputs": [
        {
          "output_type": "display_data",
          "data": {
            "text/plain": [
              "  0%|          | 0/6079 [00:00<?, ?it/s]"
            ],
            "application/vnd.jupyter.widget-view+json": {
              "version_major": 2,
              "version_minor": 0,
              "model_id": "7809cd5eab6140d69422bf7a8b4bacc8"
            }
          },
          "metadata": {}
        }
      ],
      "source": [
        "idx2graph = {}\n",
        "for i in tqdm(range(df_train.shape[0])):\n",
        "    text = df_train.question_body[i].lower().replace(\"\\n\", \"\").strip()\n",
        "    #text = cleanResume(text)\n",
        "    doc = tokenizer.text_to_doc(text)\n",
        "    tokenizer.fit_on_doc(doc)\n",
        "    adj_matrix = tokenizer.doc_to_adj(doc)\n",
        "    coo = coo_matrix(adj_matrix)\n",
        "    idx2graph[i] = np.array([coo.row, coo.col], dtype=np.int32)"
      ]
    },
    {
      "cell_type": "markdown",
      "id": "d0990c05",
      "metadata": {
        "id": "d0990c05",
        "papermill": {
          "duration": 0.010563,
          "end_time": "2023-03-31T19:40:14.981336",
          "exception": false,
          "start_time": "2023-03-31T19:40:14.970773",
          "status": "completed"
        },
        "tags": []
      },
      "source": [
        "### example"
      ]
    },
    {
      "cell_type": "code",
      "execution_count": null,
      "id": "023b6b5b",
      "metadata": {
        "execution": {
          "iopub.execute_input": "2023-03-31T19:40:15.004223Z",
          "iopub.status.busy": "2023-03-31T19:40:15.003876Z",
          "iopub.status.idle": "2023-03-31T19:40:15.016741Z",
          "shell.execute_reply": "2023-03-31T19:40:15.015877Z"
        },
        "id": "023b6b5b",
        "outputId": "d5c89bb5-8b5b-481d-d36e-52120b990ab7",
        "papermill": {
          "duration": 0.026719,
          "end_time": "2023-03-31T19:40:15.018684",
          "exception": false,
          "start_time": "2023-03-31T19:40:14.991965",
          "status": "completed"
        },
        "tags": []
      },
      "outputs": [
        {
          "data": {
            "text/plain": [
              "array([33744, 11355,   607,     4,    37, 11370, 33744, 11355,   607],\n",
              "      dtype=int32)"
            ]
          },
          "execution_count": 11,
          "metadata": {},
          "output_type": "execute_result"
        }
      ],
      "source": [
        "doc = tokenizer.text_to_doc(\"<pad> I like df <pad>\")\n",
        "tokenizer.doc_to_sequence(doc)"
      ]
    },
    {
      "cell_type": "code",
      "execution_count": null,
      "id": "bbf868c2",
      "metadata": {
        "execution": {
          "iopub.execute_input": "2023-03-31T19:40:15.041323Z",
          "iopub.status.busy": "2023-03-31T19:40:15.041044Z",
          "iopub.status.idle": "2023-03-31T19:40:15.046848Z",
          "shell.execute_reply": "2023-03-31T19:40:15.045941Z"
        },
        "id": "bbf868c2",
        "outputId": "6cc4d24c-987f-4597-ae89-55a53ba63d9c",
        "papermill": {
          "duration": 0.019429,
          "end_time": "2023-03-31T19:40:15.048780",
          "exception": false,
          "start_time": "2023-03-31T19:40:15.029351",
          "status": "completed"
        },
        "tags": []
      },
      "outputs": [
        {
          "data": {
            "text/plain": [
              "array([[  0,   1,   2, ..., 358, 358, 359],\n",
              "       [  3,   3,   3, ..., 356, 357, 332]], dtype=int32)"
            ]
          },
          "execution_count": 12,
          "metadata": {},
          "output_type": "execute_result"
        }
      ],
      "source": [
        "idx2graph[0]"
      ]
    },
    {
      "cell_type": "code",
      "execution_count": null,
      "id": "af42459c",
      "metadata": {
        "execution": {
          "iopub.execute_input": "2023-03-31T19:40:15.071555Z",
          "iopub.status.busy": "2023-03-31T19:40:15.071293Z",
          "iopub.status.idle": "2023-03-31T19:40:15.076760Z",
          "shell.execute_reply": "2023-03-31T19:40:15.075872Z"
        },
        "id": "af42459c",
        "outputId": "55753736-aba4-4124-c764-57f3bc6fdddd",
        "papermill": {
          "duration": 0.019272,
          "end_time": "2023-03-31T19:40:15.078784",
          "exception": false,
          "start_time": "2023-03-31T19:40:15.059512",
          "status": "completed"
        },
        "tags": []
      },
      "outputs": [
        {
          "data": {
            "text/plain": [
              "(2, 696)"
            ]
          },
          "execution_count": 13,
          "metadata": {},
          "output_type": "execute_result"
        }
      ],
      "source": [
        "idx2graph[0].shape"
      ]
    },
    {
      "cell_type": "code",
      "execution_count": null,
      "id": "2d42977b",
      "metadata": {
        "execution": {
          "iopub.execute_input": "2023-03-31T19:40:15.101757Z",
          "iopub.status.busy": "2023-03-31T19:40:15.101502Z",
          "iopub.status.idle": "2023-03-31T19:40:15.107907Z",
          "shell.execute_reply": "2023-03-31T19:40:15.107284Z"
        },
        "id": "2d42977b",
        "outputId": "3378caf8-69a5-493d-ed7d-d70750fc4005",
        "papermill": {
          "duration": 0.019815,
          "end_time": "2023-03-31T19:40:15.109710",
          "exception": false,
          "start_time": "2023-03-31T19:40:15.089895",
          "status": "completed"
        },
        "tags": []
      },
      "outputs": [
        {
          "data": {
            "text/html": [
              "<span class=\"tex2jax_ignore\"><svg xmlns=\"http://www.w3.org/2000/svg\" xmlns:xlink=\"http://www.w3.org/1999/xlink\" xml:lang=\"en\" id=\"370d87420d52497fab46293c86ed979b-0\" class=\"displacy\" width=\"1625\" height=\"399.5\" direction=\"ltr\" style=\"max-width: none; height: 399.5px; color: #000000; background: #ffffff; font-family: Arial; direction: ltr\">\n",
              "<text class=\"displacy-token\" fill=\"currentColor\" text-anchor=\"middle\" y=\"309.5\">\n",
              "    <tspan class=\"displacy-word\" fill=\"currentColor\" x=\"50\">&lt;</tspan>\n",
              "    <tspan class=\"displacy-tag\" dy=\"2em\" fill=\"currentColor\" x=\"50\">X</tspan>\n",
              "</text>\n",
              "\n",
              "<text class=\"displacy-token\" fill=\"currentColor\" text-anchor=\"middle\" y=\"309.5\">\n",
              "    <tspan class=\"displacy-word\" fill=\"currentColor\" x=\"225\">pad</tspan>\n",
              "    <tspan class=\"displacy-tag\" dy=\"2em\" fill=\"currentColor\" x=\"225\">NOUN</tspan>\n",
              "</text>\n",
              "\n",
              "<text class=\"displacy-token\" fill=\"currentColor\" text-anchor=\"middle\" y=\"309.5\">\n",
              "    <tspan class=\"displacy-word\" fill=\"currentColor\" x=\"400\">&gt;</tspan>\n",
              "    <tspan class=\"displacy-tag\" dy=\"2em\" fill=\"currentColor\" x=\"400\">X</tspan>\n",
              "</text>\n",
              "\n",
              "<text class=\"displacy-token\" fill=\"currentColor\" text-anchor=\"middle\" y=\"309.5\">\n",
              "    <tspan class=\"displacy-word\" fill=\"currentColor\" x=\"575\">I</tspan>\n",
              "    <tspan class=\"displacy-tag\" dy=\"2em\" fill=\"currentColor\" x=\"575\">PRON</tspan>\n",
              "</text>\n",
              "\n",
              "<text class=\"displacy-token\" fill=\"currentColor\" text-anchor=\"middle\" y=\"309.5\">\n",
              "    <tspan class=\"displacy-word\" fill=\"currentColor\" x=\"750\">like</tspan>\n",
              "    <tspan class=\"displacy-tag\" dy=\"2em\" fill=\"currentColor\" x=\"750\">VERB</tspan>\n",
              "</text>\n",
              "\n",
              "<text class=\"displacy-token\" fill=\"currentColor\" text-anchor=\"middle\" y=\"309.5\">\n",
              "    <tspan class=\"displacy-word\" fill=\"currentColor\" x=\"925\">df</tspan>\n",
              "    <tspan class=\"displacy-tag\" dy=\"2em\" fill=\"currentColor\" x=\"925\">NOUN</tspan>\n",
              "</text>\n",
              "\n",
              "<text class=\"displacy-token\" fill=\"currentColor\" text-anchor=\"middle\" y=\"309.5\">\n",
              "    <tspan class=\"displacy-word\" fill=\"currentColor\" x=\"1100\">&lt;</tspan>\n",
              "    <tspan class=\"displacy-tag\" dy=\"2em\" fill=\"currentColor\" x=\"1100\">X</tspan>\n",
              "</text>\n",
              "\n",
              "<text class=\"displacy-token\" fill=\"currentColor\" text-anchor=\"middle\" y=\"309.5\">\n",
              "    <tspan class=\"displacy-word\" fill=\"currentColor\" x=\"1275\">pad</tspan>\n",
              "    <tspan class=\"displacy-tag\" dy=\"2em\" fill=\"currentColor\" x=\"1275\">NOUN</tspan>\n",
              "</text>\n",
              "\n",
              "<text class=\"displacy-token\" fill=\"currentColor\" text-anchor=\"middle\" y=\"309.5\">\n",
              "    <tspan class=\"displacy-word\" fill=\"currentColor\" x=\"1450\">&gt;</tspan>\n",
              "    <tspan class=\"displacy-tag\" dy=\"2em\" fill=\"currentColor\" x=\"1450\">X</tspan>\n",
              "</text>\n",
              "\n",
              "<g class=\"displacy-arrow\">\n",
              "    <path class=\"displacy-arc\" id=\"arrow-370d87420d52497fab46293c86ed979b-0-0\" stroke-width=\"2px\" d=\"M70,264.5 C70,177.0 215.0,177.0 215.0,264.5\" fill=\"none\" stroke=\"currentColor\"/>\n",
              "    <text dy=\"1.25em\" style=\"font-size: 0.8em; letter-spacing: 1px\">\n",
              "        <textPath xlink:href=\"#arrow-370d87420d52497fab46293c86ed979b-0-0\" class=\"displacy-label\" startOffset=\"50%\" side=\"left\" fill=\"currentColor\" text-anchor=\"middle\">punct</textPath>\n",
              "    </text>\n",
              "    <path class=\"displacy-arrowhead\" d=\"M215.0,266.5 L223.0,254.5 207.0,254.5\" fill=\"currentColor\"/>\n",
              "</g>\n",
              "\n",
              "<g class=\"displacy-arrow\">\n",
              "    <path class=\"displacy-arc\" id=\"arrow-370d87420d52497fab46293c86ed979b-0-1\" stroke-width=\"2px\" d=\"M245,264.5 C245,177.0 390.0,177.0 390.0,264.5\" fill=\"none\" stroke=\"currentColor\"/>\n",
              "    <text dy=\"1.25em\" style=\"font-size: 0.8em; letter-spacing: 1px\">\n",
              "        <textPath xlink:href=\"#arrow-370d87420d52497fab46293c86ed979b-0-1\" class=\"displacy-label\" startOffset=\"50%\" side=\"left\" fill=\"currentColor\" text-anchor=\"middle\">punct</textPath>\n",
              "    </text>\n",
              "    <path class=\"displacy-arrowhead\" d=\"M390.0,266.5 L398.0,254.5 382.0,254.5\" fill=\"currentColor\"/>\n",
              "</g>\n",
              "\n",
              "<g class=\"displacy-arrow\">\n",
              "    <path class=\"displacy-arc\" id=\"arrow-370d87420d52497fab46293c86ed979b-0-2\" stroke-width=\"2px\" d=\"M595,264.5 C595,177.0 740.0,177.0 740.0,264.5\" fill=\"none\" stroke=\"currentColor\"/>\n",
              "    <text dy=\"1.25em\" style=\"font-size: 0.8em; letter-spacing: 1px\">\n",
              "        <textPath xlink:href=\"#arrow-370d87420d52497fab46293c86ed979b-0-2\" class=\"displacy-label\" startOffset=\"50%\" side=\"left\" fill=\"currentColor\" text-anchor=\"middle\">nsubj</textPath>\n",
              "    </text>\n",
              "    <path class=\"displacy-arrowhead\" d=\"M595,266.5 L587,254.5 603,254.5\" fill=\"currentColor\"/>\n",
              "</g>\n",
              "\n",
              "<g class=\"displacy-arrow\">\n",
              "    <path class=\"displacy-arc\" id=\"arrow-370d87420d52497fab46293c86ed979b-0-3\" stroke-width=\"2px\" d=\"M770,264.5 C770,177.0 915.0,177.0 915.0,264.5\" fill=\"none\" stroke=\"currentColor\"/>\n",
              "    <text dy=\"1.25em\" style=\"font-size: 0.8em; letter-spacing: 1px\">\n",
              "        <textPath xlink:href=\"#arrow-370d87420d52497fab46293c86ed979b-0-3\" class=\"displacy-label\" startOffset=\"50%\" side=\"left\" fill=\"currentColor\" text-anchor=\"middle\">dobj</textPath>\n",
              "    </text>\n",
              "    <path class=\"displacy-arrowhead\" d=\"M915.0,266.5 L923.0,254.5 907.0,254.5\" fill=\"currentColor\"/>\n",
              "</g>\n",
              "\n",
              "<g class=\"displacy-arrow\">\n",
              "    <path class=\"displacy-arc\" id=\"arrow-370d87420d52497fab46293c86ed979b-0-4\" stroke-width=\"2px\" d=\"M945,264.5 C945,177.0 1090.0,177.0 1090.0,264.5\" fill=\"none\" stroke=\"currentColor\"/>\n",
              "    <text dy=\"1.25em\" style=\"font-size: 0.8em; letter-spacing: 1px\">\n",
              "        <textPath xlink:href=\"#arrow-370d87420d52497fab46293c86ed979b-0-4\" class=\"displacy-label\" startOffset=\"50%\" side=\"left\" fill=\"currentColor\" text-anchor=\"middle\">punct</textPath>\n",
              "    </text>\n",
              "    <path class=\"displacy-arrowhead\" d=\"M1090.0,266.5 L1098.0,254.5 1082.0,254.5\" fill=\"currentColor\"/>\n",
              "</g>\n",
              "\n",
              "<g class=\"displacy-arrow\">\n",
              "    <path class=\"displacy-arc\" id=\"arrow-370d87420d52497fab46293c86ed979b-0-5\" stroke-width=\"2px\" d=\"M770,264.5 C770,89.5 1270.0,89.5 1270.0,264.5\" fill=\"none\" stroke=\"currentColor\"/>\n",
              "    <text dy=\"1.25em\" style=\"font-size: 0.8em; letter-spacing: 1px\">\n",
              "        <textPath xlink:href=\"#arrow-370d87420d52497fab46293c86ed979b-0-5\" class=\"displacy-label\" startOffset=\"50%\" side=\"left\" fill=\"currentColor\" text-anchor=\"middle\">dobj</textPath>\n",
              "    </text>\n",
              "    <path class=\"displacy-arrowhead\" d=\"M1270.0,266.5 L1278.0,254.5 1262.0,254.5\" fill=\"currentColor\"/>\n",
              "</g>\n",
              "\n",
              "<g class=\"displacy-arrow\">\n",
              "    <path class=\"displacy-arc\" id=\"arrow-370d87420d52497fab46293c86ed979b-0-6\" stroke-width=\"2px\" d=\"M770,264.5 C770,2.0 1450.0,2.0 1450.0,264.5\" fill=\"none\" stroke=\"currentColor\"/>\n",
              "    <text dy=\"1.25em\" style=\"font-size: 0.8em; letter-spacing: 1px\">\n",
              "        <textPath xlink:href=\"#arrow-370d87420d52497fab46293c86ed979b-0-6\" class=\"displacy-label\" startOffset=\"50%\" side=\"left\" fill=\"currentColor\" text-anchor=\"middle\">punct</textPath>\n",
              "    </text>\n",
              "    <path class=\"displacy-arrowhead\" d=\"M1450.0,266.5 L1458.0,254.5 1442.0,254.5\" fill=\"currentColor\"/>\n",
              "</g>\n",
              "</svg></span>"
            ],
            "text/plain": [
              "<IPython.core.display.HTML object>"
            ]
          },
          "metadata": {},
          "output_type": "display_data"
        }
      ],
      "source": [
        "displacy.render(doc, style='dep', jupyter=True)"
      ]
    },
    {
      "cell_type": "markdown",
      "id": "448305fa",
      "metadata": {
        "id": "448305fa",
        "papermill": {
          "duration": 0.010947,
          "end_time": "2023-03-31T19:40:15.131705",
          "exception": false,
          "start_time": "2023-03-31T19:40:15.120758",
          "status": "completed"
        },
        "tags": []
      },
      "source": [
        "## Dataset Generation"
      ]
    },
    {
      "cell_type": "code",
      "execution_count": null,
      "id": "43f05f4e",
      "metadata": {
        "execution": {
          "iopub.execute_input": "2023-03-31T19:40:15.155764Z",
          "iopub.status.busy": "2023-03-31T19:40:15.155516Z",
          "iopub.status.idle": "2023-03-31T19:40:15.167076Z",
          "shell.execute_reply": "2023-03-31T19:40:15.166188Z"
        },
        "id": "43f05f4e",
        "papermill": {
          "duration": 0.026009,
          "end_time": "2023-03-31T19:40:15.169030",
          "exception": false,
          "start_time": "2023-03-31T19:40:15.143021",
          "status": "completed"
        },
        "tags": []
      },
      "outputs": [],
      "source": [
        "class MyTrainDataset(InMemoryDataset):\n",
        "    def __init__(self, root, transform=None, pre_transform=None, pre_filter=None):\n",
        "        super().__init__(root, transform, pre_transform, pre_filter)\n",
        "\n",
        "        self.data, self.slices = torch.load(self.processed_paths[0])\n",
        "\n",
        "    @property\n",
        "    def raw_dir(self):\n",
        "        return \"/kaggle/working/\"\n",
        "\n",
        "    @property\n",
        "    def processed_dir(self):\n",
        "        return os.path.join(self.root, \"train_processed\")\n",
        "\n",
        "    @property\n",
        "    def raw_file_names(self):\n",
        "        return ['/kaggle/input/dataset1/NewTrain.csv']\n",
        "\n",
        "    @property\n",
        "    def processed_file_names(self):\n",
        "        return ['train-data.pt']\n",
        "\n",
        "    def download(self):\n",
        "        pass\n",
        "\n",
        "    def process(self):\n",
        "\n",
        "        data_list = self.read_data()\n",
        "\n",
        "        if self.pre_filter is not None:\n",
        "            data_list = [data for data in data_list if self.pre_filter(data)]\n",
        "\n",
        "        if self.pre_transform is not None:\n",
        "            data_list = [self.pre_transform(data) for data in data_list]\n",
        "\n",
        "        data, slices = self.collate(data_list)\n",
        "        torch.save((data, slices), self.processed_paths[0])\n",
        "\n",
        "    def read_data(self):\n",
        "        df_train = pd.read_csv(self.raw_paths[0])\n",
        "        all_data = []\n",
        "        for i in range(df_train.shape[0]):\n",
        "            text = df_train.question_body[i].lower().replace(\"\\n\", \"\").strip()\n",
        "            #text = cleanResume(text)\n",
        "            doc = tokenizer.text_to_doc(text)\n",
        "            input_ids = tokenizer.doc_to_sequence(doc)\n",
        "            label = df_train.loc[i,target_col_names].to_list()\n",
        "            x = torch.tensor(input_ids.reshape(-1, 1), dtype=torch.int32)\n",
        "            edge_index  = torch.tensor(idx2graph[i], dtype=torch.long)\n",
        "            y = torch.tensor(np.array(label), dtype=torch.float32).reshape(-1, 30)\n",
        "            data = Data(x=x, edge_index=edge_index, y=y)\n",
        "\n",
        "            all_data.append(data)\n",
        "        return all_data"
      ]
    },
    {
      "cell_type": "code",
      "execution_count": null,
      "id": "7b8f7823",
      "metadata": {
        "execution": {
          "iopub.execute_input": "2023-03-31T19:40:15.192959Z",
          "iopub.status.busy": "2023-03-31T19:40:15.192671Z",
          "iopub.status.idle": "2023-03-31T19:44:29.709603Z",
          "shell.execute_reply": "2023-03-31T19:44:29.706857Z"
        },
        "id": "7b8f7823",
        "papermill": {
          "duration": 254.543265,
          "end_time": "2023-03-31T19:44:29.723511",
          "exception": false,
          "start_time": "2023-03-31T19:40:15.180246",
          "status": "completed"
        },
        "tags": [],
        "outputId": "436c8fb8-fb67-418b-fad8-10cda6f0316d"
      },
      "outputs": [
        {
          "name": "stderr",
          "output_type": "stream",
          "text": [
            "Processing...\n",
            "Done!\n"
          ]
        }
      ],
      "source": [
        "dataset = MyTrainDataset(root='/kaggle/working/')"
      ]
    },
    {
      "cell_type": "code",
      "execution_count": null,
      "id": "ad139e79",
      "metadata": {
        "execution": {
          "iopub.execute_input": "2023-03-31T19:44:29.748422Z",
          "iopub.status.busy": "2023-03-31T19:44:29.747495Z",
          "iopub.status.idle": "2023-03-31T19:44:29.760135Z",
          "shell.execute_reply": "2023-03-31T19:44:29.758938Z"
        },
        "id": "ad139e79",
        "outputId": "0f53e610-b633-443d-bab6-d9999849ee69",
        "papermill": {
          "duration": 0.027394,
          "end_time": "2023-03-31T19:44:29.762329",
          "exception": false,
          "start_time": "2023-03-31T19:44:29.734935",
          "status": "completed"
        },
        "tags": []
      },
      "outputs": [
        {
          "name": "stdout",
          "output_type": "stream",
          "text": [
            "4863 1216\n"
          ]
        }
      ],
      "source": [
        "dataset = dataset.shuffle()\n",
        "train_len = int(0.8*len(dataset))\n",
        "train_dataset = dataset[:train_len]\n",
        "val_dataset = dataset[train_len:]\n",
        "print(len(train_dataset), len(val_dataset))"
      ]
    },
    {
      "cell_type": "code",
      "execution_count": null,
      "id": "601c32df",
      "metadata": {
        "execution": {
          "iopub.execute_input": "2023-03-31T19:44:29.786747Z",
          "iopub.status.busy": "2023-03-31T19:44:29.785996Z",
          "iopub.status.idle": "2023-03-31T19:44:29.791337Z",
          "shell.execute_reply": "2023-03-31T19:44:29.790388Z"
        },
        "id": "601c32df",
        "papermill": {
          "duration": 0.019464,
          "end_time": "2023-03-31T19:44:29.793188",
          "exception": false,
          "start_time": "2023-03-31T19:44:29.773724",
          "status": "completed"
        },
        "tags": []
      },
      "outputs": [],
      "source": [
        "train_loader = DataLoader(train_dataset, batch_size=128, shuffle=True)\n",
        "val_loader = DataLoader(val_dataset, batch_size=128)"
      ]
    },
    {
      "cell_type": "code",
      "execution_count": null,
      "id": "2477d0dd",
      "metadata": {
        "execution": {
          "iopub.execute_input": "2023-03-31T19:44:29.817441Z",
          "iopub.status.busy": "2023-03-31T19:44:29.816765Z",
          "iopub.status.idle": "2023-03-31T19:44:30.578982Z",
          "shell.execute_reply": "2023-03-31T19:44:30.577746Z"
        },
        "id": "2477d0dd",
        "outputId": "437a9c77-8fb6-405b-d90c-c7211763dc4a",
        "papermill": {
          "duration": 0.776585,
          "end_time": "2023-03-31T19:44:30.581261",
          "exception": false,
          "start_time": "2023-03-31T19:44:29.804676",
          "status": "completed"
        },
        "tags": []
      },
      "outputs": [
        {
          "name": "stdout",
          "output_type": "stream",
          "text": [
            "DataBatch(x=[41488, 1], edge_index=[2, 80154], y=[128, 30], batch=[41488], ptr=[129])\n",
            "DataBatch(x=[44117, 1], edge_index=[2, 85622], y=[128, 30], batch=[44117], ptr=[129])\n",
            "DataBatch(x=[43619, 1], edge_index=[2, 84244], y=[128, 30], batch=[43619], ptr=[129])\n",
            "DataBatch(x=[45218, 1], edge_index=[2, 87510], y=[128, 30], batch=[45218], ptr=[129])\n",
            "DataBatch(x=[42674, 1], edge_index=[2, 82488], y=[128, 30], batch=[42674], ptr=[129])\n",
            "DataBatch(x=[42594, 1], edge_index=[2, 82282], y=[128, 30], batch=[42594], ptr=[129])\n",
            "DataBatch(x=[45487, 1], edge_index=[2, 88050], y=[128, 30], batch=[45487], ptr=[129])\n",
            "DataBatch(x=[41556, 1], edge_index=[2, 80372], y=[128, 30], batch=[41556], ptr=[129])\n",
            "DataBatch(x=[42758, 1], edge_index=[2, 82920], y=[128, 30], batch=[42758], ptr=[129])\n",
            "DataBatch(x=[44632, 1], edge_index=[2, 86370], y=[128, 30], batch=[44632], ptr=[129])\n",
            "DataBatch(x=[36058, 1], edge_index=[2, 69688], y=[128, 30], batch=[36058], ptr=[129])\n",
            "DataBatch(x=[41134, 1], edge_index=[2, 79604], y=[128, 30], batch=[41134], ptr=[129])\n",
            "DataBatch(x=[40323, 1], edge_index=[2, 77910], y=[128, 30], batch=[40323], ptr=[129])\n",
            "DataBatch(x=[39363, 1], edge_index=[2, 76066], y=[128, 30], batch=[39363], ptr=[129])\n",
            "DataBatch(x=[41348, 1], edge_index=[2, 80016], y=[128, 30], batch=[41348], ptr=[129])\n",
            "DataBatch(x=[51965, 1], edge_index=[2, 100896], y=[128, 30], batch=[51965], ptr=[129])\n",
            "DataBatch(x=[45994, 1], edge_index=[2, 89000], y=[128, 30], batch=[45994], ptr=[129])\n",
            "DataBatch(x=[43453, 1], edge_index=[2, 84184], y=[128, 30], batch=[43453], ptr=[129])\n",
            "DataBatch(x=[38964, 1], edge_index=[2, 75282], y=[128, 30], batch=[38964], ptr=[129])\n",
            "DataBatch(x=[42700, 1], edge_index=[2, 82436], y=[128, 30], batch=[42700], ptr=[129])\n",
            "DataBatch(x=[40268, 1], edge_index=[2, 77828], y=[128, 30], batch=[40268], ptr=[129])\n",
            "DataBatch(x=[42385, 1], edge_index=[2, 81998], y=[128, 30], batch=[42385], ptr=[129])\n",
            "DataBatch(x=[44749, 1], edge_index=[2, 86642], y=[128, 30], batch=[44749], ptr=[129])\n",
            "DataBatch(x=[46858, 1], edge_index=[2, 90598], y=[128, 30], batch=[46858], ptr=[129])\n",
            "DataBatch(x=[39627, 1], edge_index=[2, 76686], y=[128, 30], batch=[39627], ptr=[129])\n",
            "DataBatch(x=[40473, 1], edge_index=[2, 78326], y=[128, 30], batch=[40473], ptr=[129])\n",
            "DataBatch(x=[44399, 1], edge_index=[2, 85824], y=[128, 30], batch=[44399], ptr=[129])\n",
            "DataBatch(x=[45587, 1], edge_index=[2, 88126], y=[128, 30], batch=[45587], ptr=[129])\n",
            "DataBatch(x=[38037, 1], edge_index=[2, 73626], y=[128, 30], batch=[38037], ptr=[129])\n",
            "DataBatch(x=[39695, 1], edge_index=[2, 76960], y=[128, 30], batch=[39695], ptr=[129])\n",
            "DataBatch(x=[39371, 1], edge_index=[2, 76256], y=[128, 30], batch=[39371], ptr=[129])\n",
            "DataBatch(x=[39142, 1], edge_index=[2, 75530], y=[128, 30], batch=[39142], ptr=[129])\n",
            "DataBatch(x=[46140, 1], edge_index=[2, 89070], y=[128, 30], batch=[46140], ptr=[129])\n",
            "DataBatch(x=[40001, 1], edge_index=[2, 77208], y=[128, 30], batch=[40001], ptr=[129])\n",
            "DataBatch(x=[39544, 1], edge_index=[2, 76528], y=[128, 30], batch=[39544], ptr=[129])\n",
            "DataBatch(x=[43589, 1], edge_index=[2, 84362], y=[128, 30], batch=[43589], ptr=[129])\n",
            "DataBatch(x=[49617, 1], edge_index=[2, 96212], y=[128, 30], batch=[49617], ptr=[129])\n",
            "DataBatch(x=[44189, 1], edge_index=[2, 85264], y=[127, 30], batch=[44189], ptr=[128])\n"
          ]
        }
      ],
      "source": [
        "for i in train_loader:\n",
        "    print(i)"
      ]
    },
    {
      "cell_type": "markdown",
      "id": "f773ba99",
      "metadata": {
        "id": "f773ba99",
        "papermill": {
          "duration": 0.011551,
          "end_time": "2023-03-31T19:44:30.604937",
          "exception": false,
          "start_time": "2023-03-31T19:44:30.593386",
          "status": "completed"
        },
        "tags": []
      },
      "source": [
        "## Model Building"
      ]
    },
    {
      "cell_type": "code",
      "execution_count": null,
      "id": "24f16210",
      "metadata": {
        "execution": {
          "iopub.execute_input": "2023-03-31T19:44:30.629431Z",
          "iopub.status.busy": "2023-03-31T19:44:30.629139Z",
          "iopub.status.idle": "2023-03-31T19:44:30.633030Z",
          "shell.execute_reply": "2023-03-31T19:44:30.632087Z"
        },
        "id": "24f16210",
        "papermill": {
          "duration": 0.018759,
          "end_time": "2023-03-31T19:44:30.635120",
          "exception": false,
          "start_time": "2023-03-31T19:44:30.616361",
          "status": "completed"
        },
        "tags": []
      },
      "outputs": [],
      "source": [
        "unique_words=len(tokenizer.word2idx)"
      ]
    },
    {
      "cell_type": "code",
      "execution_count": null,
      "id": "a5885800",
      "metadata": {
        "execution": {
          "iopub.execute_input": "2023-03-31T19:44:30.659845Z",
          "iopub.status.busy": "2023-03-31T19:44:30.659102Z",
          "iopub.status.idle": "2023-03-31T19:44:30.663464Z",
          "shell.execute_reply": "2023-03-31T19:44:30.662670Z"
        },
        "id": "a5885800",
        "papermill": {
          "duration": 0.018731,
          "end_time": "2023-03-31T19:44:30.665436",
          "exception": false,
          "start_time": "2023-03-31T19:44:30.646705",
          "status": "completed"
        },
        "tags": []
      },
      "outputs": [],
      "source": [
        "from torch_geometric.nn import SAGEConv"
      ]
    },
    {
      "cell_type": "code",
      "execution_count": null,
      "id": "7569ba98",
      "metadata": {
        "execution": {
          "iopub.execute_input": "2023-03-31T19:44:30.689763Z",
          "iopub.status.busy": "2023-03-31T19:44:30.689492Z",
          "iopub.status.idle": "2023-03-31T19:44:30.700551Z",
          "shell.execute_reply": "2023-03-31T19:44:30.699833Z"
        },
        "id": "7569ba98",
        "papermill": {
          "duration": 0.025584,
          "end_time": "2023-03-31T19:44:30.702519",
          "exception": false,
          "start_time": "2023-03-31T19:44:30.676935",
          "status": "completed"
        },
        "tags": []
      },
      "outputs": [],
      "source": [
        "class FeedbackModel(nn.Module):\n",
        "    def __init__(self):\n",
        "        super(FeedbackModel, self).__init__()\n",
        "        \n",
        "        vocab_size=unique_words\n",
        "        output_dims=300\n",
        "        self.embed = nn.Embedding(vocab_size, output_dims)\n",
        "        self.gc1 = SAGEConv(300, 128)\n",
        "        self.pool1 = pyg_nn.TopKPooling(128, ratio=0.8)\n",
        "        self.gc2 = SAGEConv(128, 128)\n",
        "        self.pool2 = pyg_nn.TopKPooling(128, ratio=0.8)\n",
        "        self.gc3 = SAGEConv(128,128)\n",
        "        self.lin1 = nn.Linear(256, 64)\n",
        "        self.lin2 = nn.Linear(64, 30)\n",
        "\n",
        "    def forward(self, data):\n",
        "        x, edge_index, batch = data.x, data.edge_index, data.batch\n",
        "        x = x.squeeze(1)\n",
        "        x = self.embed(x)\n",
        "        \n",
        "        x = F.relu(self.gc1(x, edge_index))\n",
        "        x, edge_index, _, batch, _, _ = self.pool1(x, edge_index, batch=batch)\n",
        "        x1 = torch.cat([pyg_nn.global_max_pool(x, batch), pyg_nn.global_mean_pool(x, batch)], dim=1)\n",
        "\n",
        "        x = F.relu(self.gc2(x, edge_index))\n",
        "        x, edge_index, _, batch, _, _ = self.pool2(x, edge_index, batch=batch)\n",
        "        x2 = torch.cat([pyg_nn.global_max_pool(x, batch), pyg_nn.global_mean_pool(x, batch)], dim=1)\n",
        "\n",
        "        x = F.relu(self.gc3(x, edge_index))\n",
        "        x, edge_index, _, batch, _, _ = self.pool2(x, edge_index, batch=batch)\n",
        "        x3 = torch.cat([pyg_nn.global_max_pool(x, batch), pyg_nn.global_mean_pool(x, batch)], dim=1)\n",
        "\n",
        "        x = x1 + x2 + x3\n",
        "        x = F.relu(self.lin1(x))\n",
        "        x = F.dropout(x, p=0.5, training=self.training)\n",
        "        output = F.relu(self.lin2(x))\n",
        "\n",
        "        return output\n"
      ]
    },
    {
      "cell_type": "code",
      "execution_count": null,
      "id": "74f533a9",
      "metadata": {
        "execution": {
          "iopub.execute_input": "2023-03-31T19:44:30.726782Z",
          "iopub.status.busy": "2023-03-31T19:44:30.726511Z",
          "iopub.status.idle": "2023-03-31T19:44:30.983916Z",
          "shell.execute_reply": "2023-03-31T19:44:30.982984Z"
        },
        "id": "74f533a9",
        "outputId": "59fd52b4-76d1-477e-94b8-691014cd5063",
        "papermill": {
          "duration": 0.271817,
          "end_time": "2023-03-31T19:44:30.986019",
          "exception": false,
          "start_time": "2023-03-31T19:44:30.714202",
          "status": "completed"
        },
        "tags": []
      },
      "outputs": [
        {
          "data": {
            "text/plain": [
              "FeedbackModel(\n",
              "  (embed): Embedding(99670, 300)\n",
              "  (gc1): SAGEConv(300, 128, aggr=mean)\n",
              "  (pool1): TopKPooling(128, ratio=0.8, multiplier=1.0)\n",
              "  (gc2): SAGEConv(128, 128, aggr=mean)\n",
              "  (pool2): TopKPooling(128, ratio=0.8, multiplier=1.0)\n",
              "  (gc3): SAGEConv(128, 128, aggr=mean)\n",
              "  (lin1): Linear(in_features=256, out_features=64, bias=True)\n",
              "  (lin2): Linear(in_features=64, out_features=30, bias=True)\n",
              ")"
            ]
          },
          "execution_count": 23,
          "metadata": {},
          "output_type": "execute_result"
        }
      ],
      "source": [
        "model = FeedbackModel()\n",
        "model"
      ]
    },
    {
      "cell_type": "markdown",
      "id": "1f59faa8",
      "metadata": {
        "id": "1f59faa8",
        "papermill": {
          "duration": 0.01162,
          "end_time": "2023-03-31T19:44:31.010382",
          "exception": false,
          "start_time": "2023-03-31T19:44:30.998762",
          "status": "completed"
        },
        "tags": []
      },
      "source": [
        "## Training SAGECONV Model"
      ]
    },
    {
      "cell_type": "code",
      "execution_count": null,
      "id": "bf4a874e",
      "metadata": {
        "execution": {
          "iopub.execute_input": "2023-03-31T19:44:31.036062Z",
          "iopub.status.busy": "2023-03-31T19:44:31.035347Z",
          "iopub.status.idle": "2023-03-31T19:44:31.045030Z",
          "shell.execute_reply": "2023-03-31T19:44:31.044358Z"
        },
        "id": "bf4a874e",
        "outputId": "68fc9751-1d52-442e-d29f-6373585c597d",
        "papermill": {
          "duration": 0.02433,
          "end_time": "2023-03-31T19:44:31.046731",
          "exception": false,
          "start_time": "2023-03-31T19:44:31.022401",
          "status": "completed"
        },
        "tags": []
      },
      "outputs": [
        {
          "data": {
            "text/plain": [
              "MSELoss()"
            ]
          },
          "execution_count": 24,
          "metadata": {},
          "output_type": "execute_result"
        }
      ],
      "source": [
        "epochs = 150\n",
        "\n",
        "criterion = nn.MSELoss()\n",
        "optimizer = Adam(model.parameters(), lr=1e-5)\n",
        "scheduler = lr_scheduler.ReduceLROnPlateau(optimizer, mode='min', factor=0.1, patience=6)\n",
        "\n",
        "device = torch.device(\"cpu\")\n",
        "model.to(device)\n",
        "criterion.to(device)"
      ]
    },
    {
      "cell_type": "code",
      "execution_count": null,
      "id": "4acbb753",
      "metadata": {
        "execution": {
          "iopub.execute_input": "2023-03-31T19:44:31.072097Z",
          "iopub.status.busy": "2023-03-31T19:44:31.071835Z",
          "iopub.status.idle": "2023-03-31T22:16:46.034462Z",
          "shell.execute_reply": "2023-03-31T22:16:46.033177Z"
        },
        "id": "4acbb753",
        "outputId": "3d0da653-9bb4-48cb-8715-8e849f3b95be",
        "papermill": {
          "duration": 9135.002051,
          "end_time": "2023-03-31T22:16:46.060788",
          "exception": false,
          "start_time": "2023-03-31T19:44:31.058737",
          "status": "completed"
        },
        "tags": []
      },
      "outputs": [
        {
          "name": "stdout",
          "output_type": "stream",
          "text": [
            "Epoch: 01 | Train Loss:  0.00229 | Val Loss:  0.00231\n",
            "Epoch: 02 | Train Loss:  0.00210 | Val Loss:  0.00208\n",
            "Epoch: 03 | Train Loss:  0.00191 | Val Loss:  0.00183\n",
            "Epoch: 04 | Train Loss:  0.00173 | Val Loss:  0.00158\n",
            "Epoch: 05 | Train Loss:  0.00160 | Val Loss:  0.00138\n",
            "Epoch: 06 | Train Loss:  0.00152 | Val Loss:  0.00126\n",
            "Epoch: 07 | Train Loss:  0.00146 | Val Loss:  0.00119\n",
            "Epoch: 08 | Train Loss:  0.00142 | Val Loss:  0.00115\n",
            "Epoch: 09 | Train Loss:  0.00138 | Val Loss:  0.00109\n",
            "Epoch: 10 | Train Loss:  0.00135 | Val Loss:  0.00104\n",
            "Epoch: 11 | Train Loss:  0.00131 | Val Loss:  0.00099\n",
            "Epoch: 12 | Train Loss:  0.00129 | Val Loss:  0.00096\n",
            "Epoch: 13 | Train Loss:  0.00127 | Val Loss:  0.00092\n",
            "Epoch: 14 | Train Loss:  0.00125 | Val Loss:  0.00090\n",
            "Epoch: 15 | Train Loss:  0.00124 | Val Loss:  0.00088\n",
            "Epoch: 16 | Train Loss:  0.00122 | Val Loss:  0.00087\n",
            "Epoch: 17 | Train Loss:  0.00120 | Val Loss:  0.00085\n",
            "Epoch: 18 | Train Loss:  0.00119 | Val Loss:  0.00084\n",
            "Epoch: 19 | Train Loss:  0.00118 | Val Loss:  0.00083\n",
            "Epoch: 20 | Train Loss:  0.00117 | Val Loss:  0.00081\n",
            "Epoch: 21 | Train Loss:  0.00116 | Val Loss:  0.00081\n",
            "Epoch: 22 | Train Loss:  0.00115 | Val Loss:  0.00079\n",
            "Epoch: 23 | Train Loss:  0.00114 | Val Loss:  0.00078\n",
            "Epoch: 24 | Train Loss:  0.00112 | Val Loss:  0.00077\n",
            "Epoch: 25 | Train Loss:  0.00111 | Val Loss:  0.00077\n",
            "Epoch: 26 | Train Loss:  0.00111 | Val Loss:  0.00076\n",
            "Epoch: 27 | Train Loss:  0.00110 | Val Loss:  0.00075\n",
            "Epoch: 28 | Train Loss:  0.00109 | Val Loss:  0.00074\n",
            "Epoch: 29 | Train Loss:  0.00108 | Val Loss:  0.00074\n",
            "Epoch: 30 | Train Loss:  0.00107 | Val Loss:  0.00073\n",
            "Epoch: 31 | Train Loss:  0.00107 | Val Loss:  0.00073\n",
            "Epoch: 32 | Train Loss:  0.00105 | Val Loss:  0.00071\n",
            "Epoch: 33 | Train Loss:  0.00105 | Val Loss:  0.00071\n",
            "Epoch: 34 | Train Loss:  0.00104 | Val Loss:  0.00070\n",
            "Epoch: 35 | Train Loss:  0.00103 | Val Loss:  0.00070\n",
            "Epoch: 36 | Train Loss:  0.00103 | Val Loss:  0.00069\n",
            "Epoch: 37 | Train Loss:  0.00101 | Val Loss:  0.00068\n",
            "Epoch: 38 | Train Loss:  0.00101 | Val Loss:  0.00068\n",
            "Epoch: 39 | Train Loss:  0.00101 | Val Loss:  0.00068\n",
            "Epoch: 40 | Train Loss:  0.00100 | Val Loss:  0.00067\n",
            "Epoch: 41 | Train Loss:  0.00099 | Val Loss:  0.00067\n",
            "Epoch: 42 | Train Loss:  0.00098 | Val Loss:  0.00066\n",
            "Epoch: 43 | Train Loss:  0.00097 | Val Loss:  0.00066\n",
            "Epoch: 44 | Train Loss:  0.00097 | Val Loss:  0.00066\n",
            "Epoch: 45 | Train Loss:  0.00096 | Val Loss:  0.00065\n",
            "Epoch: 46 | Train Loss:  0.00096 | Val Loss:  0.00065\n",
            "Epoch: 47 | Train Loss:  0.00095 | Val Loss:  0.00064\n",
            "Epoch: 48 | Train Loss:  0.00094 | Val Loss:  0.00064\n",
            "Epoch: 49 | Train Loss:  0.00094 | Val Loss:  0.00063\n",
            "Epoch: 50 | Train Loss:  0.00094 | Val Loss:  0.00063\n",
            "Epoch: 51 | Train Loss:  0.00093 | Val Loss:  0.00063\n",
            "Epoch: 52 | Train Loss:  0.00092 | Val Loss:  0.00062\n",
            "Epoch: 53 | Train Loss:  0.00092 | Val Loss:  0.00061\n",
            "Epoch: 54 | Train Loss:  0.00091 | Val Loss:  0.00062\n",
            "Epoch: 55 | Train Loss:  0.00091 | Val Loss:  0.00062\n",
            "Epoch: 56 | Train Loss:  0.00091 | Val Loss:  0.00061\n",
            "Epoch: 57 | Train Loss:  0.00090 | Val Loss:  0.00061\n",
            "Epoch: 58 | Train Loss:  0.00089 | Val Loss:  0.00060\n",
            "Epoch: 59 | Train Loss:  0.00090 | Val Loss:  0.00060\n",
            "Epoch: 60 | Train Loss:  0.00089 | Val Loss:  0.00061\n",
            "Epoch: 61 | Train Loss:  0.00088 | Val Loss:  0.00060\n",
            "Epoch: 62 | Train Loss:  0.00088 | Val Loss:  0.00060\n",
            "Epoch: 63 | Train Loss:  0.00087 | Val Loss:  0.00060\n",
            "Epoch: 64 | Train Loss:  0.00087 | Val Loss:  0.00059\n",
            "Epoch: 65 | Train Loss:  0.00087 | Val Loss:  0.00059\n",
            "Epoch: 66 | Train Loss:  0.00086 | Val Loss:  0.00059\n",
            "Epoch: 67 | Train Loss:  0.00086 | Val Loss:  0.00059\n",
            "Epoch: 68 | Train Loss:  0.00085 | Val Loss:  0.00058\n",
            "Epoch: 69 | Train Loss:  0.00085 | Val Loss:  0.00058\n",
            "Epoch: 70 | Train Loss:  0.00084 | Val Loss:  0.00058\n",
            "Epoch: 71 | Train Loss:  0.00084 | Val Loss:  0.00058\n",
            "Epoch: 72 | Train Loss:  0.00084 | Val Loss:  0.00057\n",
            "Epoch: 73 | Train Loss:  0.00083 | Val Loss:  0.00057\n",
            "Epoch: 74 | Train Loss:  0.00083 | Val Loss:  0.00057\n",
            "Epoch: 75 | Train Loss:  0.00082 | Val Loss:  0.00057\n",
            "Epoch: 76 | Train Loss:  0.00082 | Val Loss:  0.00057\n",
            "Epoch: 77 | Train Loss:  0.00082 | Val Loss:  0.00057\n",
            "Epoch: 78 | Train Loss:  0.00081 | Val Loss:  0.00057\n",
            "Epoch: 79 | Train Loss:  0.00081 | Val Loss:  0.00056\n",
            "Epoch: 80 | Train Loss:  0.00080 | Val Loss:  0.00056\n",
            "Epoch: 81 | Train Loss:  0.00080 | Val Loss:  0.00055\n",
            "Epoch: 82 | Train Loss:  0.00080 | Val Loss:  0.00056\n",
            "Epoch: 83 | Train Loss:  0.00080 | Val Loss:  0.00056\n",
            "Epoch: 84 | Train Loss:  0.00080 | Val Loss:  0.00055\n",
            "Epoch: 85 | Train Loss:  0.00078 | Val Loss:  0.00055\n",
            "Epoch: 86 | Train Loss:  0.00079 | Val Loss:  0.00055\n",
            "Epoch: 87 | Train Loss:  0.00078 | Val Loss:  0.00055\n",
            "Epoch: 88 | Train Loss:  0.00078 | Val Loss:  0.00055\n",
            "Epoch: 89 | Train Loss:  0.00078 | Val Loss:  0.00054\n",
            "Epoch: 90 | Train Loss:  0.00077 | Val Loss:  0.00054\n",
            "Epoch: 91 | Train Loss:  0.00077 | Val Loss:  0.00055\n",
            "Epoch: 92 | Train Loss:  0.00077 | Val Loss:  0.00054\n",
            "Epoch: 93 | Train Loss:  0.00076 | Val Loss:  0.00055\n",
            "Epoch: 94 | Train Loss:  0.00076 | Val Loss:  0.00054\n",
            "Epoch: 95 | Train Loss:  0.00076 | Val Loss:  0.00054\n",
            "Epoch: 96 | Train Loss:  0.00076 | Val Loss:  0.00053\n",
            "Epoch: 97 | Train Loss:  0.00075 | Val Loss:  0.00054\n",
            "Epoch: 98 | Train Loss:  0.00075 | Val Loss:  0.00053\n",
            "Epoch: 99 | Train Loss:  0.00075 | Val Loss:  0.00054\n",
            "Epoch: 100 | Train Loss:  0.00074 | Val Loss:  0.00054\n",
            "Epoch: 101 | Train Loss:  0.00074 | Val Loss:  0.00054\n",
            "Epoch: 102 | Train Loss:  0.00074 | Val Loss:  0.00054\n",
            "Epoch: 103 | Train Loss:  0.00074 | Val Loss:  0.00053\n",
            "Epoch: 104 | Train Loss:  0.00074 | Val Loss:  0.00053\n",
            "Epoch: 105 | Train Loss:  0.00073 | Val Loss:  0.00054\n",
            "Epoch: 106 | Train Loss:  0.00073 | Val Loss:  0.00053\n",
            "Epoch: 107 | Train Loss:  0.00072 | Val Loss:  0.00053\n",
            "Epoch: 108 | Train Loss:  0.00072 | Val Loss:  0.00053\n",
            "Epoch: 109 | Train Loss:  0.00072 | Val Loss:  0.00052\n",
            "Epoch: 110 | Train Loss:  0.00072 | Val Loss:  0.00053\n",
            "Epoch: 111 | Train Loss:  0.00072 | Val Loss:  0.00053\n",
            "Epoch: 112 | Train Loss:  0.00071 | Val Loss:  0.00052\n",
            "Epoch: 113 | Train Loss:  0.00071 | Val Loss:  0.00052\n",
            "Epoch: 114 | Train Loss:  0.00071 | Val Loss:  0.00052\n",
            "Epoch: 115 | Train Loss:  0.00070 | Val Loss:  0.00053\n",
            "Epoch: 116 | Train Loss:  0.00071 | Val Loss:  0.00053\n",
            "Epoch: 117 | Train Loss:  0.00070 | Val Loss:  0.00052\n",
            "Epoch: 118 | Train Loss:  0.00070 | Val Loss:  0.00052\n",
            "Epoch: 119 | Train Loss:  0.00070 | Val Loss:  0.00051\n",
            "Epoch: 120 | Train Loss:  0.00069 | Val Loss:  0.00052\n",
            "Epoch: 121 | Train Loss:  0.00069 | Val Loss:  0.00051\n",
            "Epoch: 122 | Train Loss:  0.00069 | Val Loss:  0.00051\n",
            "Epoch: 123 | Train Loss:  0.00069 | Val Loss:  0.00051\n",
            "Epoch: 124 | Train Loss:  0.00069 | Val Loss:  0.00051\n",
            "Epoch: 125 | Train Loss:  0.00068 | Val Loss:  0.00051\n",
            "Epoch: 126 | Train Loss:  0.00068 | Val Loss:  0.00051\n",
            "Epoch: 127 | Train Loss:  0.00068 | Val Loss:  0.00051\n",
            "Epoch: 128 | Train Loss:  0.00068 | Val Loss:  0.00051\n",
            "Epoch: 129 | Train Loss:  0.00068 | Val Loss:  0.00051\n",
            "Epoch: 130 | Train Loss:  0.00068 | Val Loss:  0.00051\n",
            "Epoch: 131 | Train Loss:  0.00067 | Val Loss:  0.00051\n",
            "Epoch: 132 | Train Loss:  0.00067 | Val Loss:  0.00050\n",
            "Epoch: 133 | Train Loss:  0.00067 | Val Loss:  0.00051\n",
            "Epoch: 134 | Train Loss:  0.00067 | Val Loss:  0.00051\n",
            "Epoch: 135 | Train Loss:  0.00067 | Val Loss:  0.00050\n",
            "Epoch: 136 | Train Loss:  0.00067 | Val Loss:  0.00050\n",
            "Epoch: 137 | Train Loss:  0.00066 | Val Loss:  0.00051\n",
            "Epoch: 138 | Train Loss:  0.00066 | Val Loss:  0.00050\n",
            "Epoch: 139 | Train Loss:  0.00066 | Val Loss:  0.00050\n",
            "Epoch: 140 | Train Loss:  0.00065 | Val Loss:  0.00050\n",
            "Epoch: 141 | Train Loss:  0.00066 | Val Loss:  0.00050\n",
            "Epoch: 142 | Train Loss:  0.00065 | Val Loss:  0.00050\n",
            "Epoch: 143 | Train Loss:  0.00066 | Val Loss:  0.00050\n",
            "Epoch: 144 | Train Loss:  0.00066 | Val Loss:  0.00050\n",
            "Epoch: 145 | Train Loss:  0.00065 | Val Loss:  0.00050\n",
            "Epoch: 146 | Train Loss:  0.00066 | Val Loss:  0.00050\n",
            "Epoch: 147 | Train Loss:  0.00065 | Val Loss:  0.00050\n",
            "Epoch: 148 | Train Loss:  0.00065 | Val Loss:  0.00050\n",
            "Epoch: 149 | Train Loss:  0.00066 | Val Loss:  0.00050\n",
            "Epoch: 150 | Train Loss:  0.00065 | Val Loss:  0.00050\n"
          ]
        }
      ],
      "source": [
        "total_loss = []\n",
        "for epoch_num in range(epochs):\n",
        "\n",
        "    model.train()\n",
        "    total_loss_train = 0\n",
        "    for sample_batched in train_loader:\n",
        "        sample_batched = sample_batched.to(device)\n",
        "        optimizer.zero_grad()\n",
        "        outputs = model(sample_batched)\n",
        "        label = sample_batched.y.to(device)\n",
        "        loss = criterion(outputs, label)\n",
        "        loss.backward()\n",
        "        total_loss_train += loss.item()\n",
        "        optimizer.step()\n",
        "\n",
        "    model.eval()\n",
        "    total_loss_val = 0\n",
        "    with torch.no_grad():\n",
        "        for sample_batched in val_loader:\n",
        "            sample_batched = sample_batched.to(device)\n",
        "            outputs = model(sample_batched)\n",
        "            label = sample_batched.y.to(device)\n",
        "            loss = criterion(outputs, label)\n",
        "            total_loss_val += loss.item()\n",
        "\n",
        "    scheduler.step(total_loss_val / len(val_dataset))\n",
        "\n",
        "    print(f'Epoch: %02.0f | Train Loss: {total_loss_train / len(train_dataset): .5f} | Val Loss: {total_loss_val / len(val_dataset): .5f}' % (epoch_num + 1))\n",
        "    total_loss.append([total_loss_train / len(train_dataset), total_loss_val / len(val_dataset)])"
      ]
    },
    {
      "cell_type": "code",
      "execution_count": null,
      "id": "ed2bbe13",
      "metadata": {
        "execution": {
          "iopub.execute_input": "2023-03-31T22:16:46.110161Z",
          "iopub.status.busy": "2023-03-31T22:16:46.109730Z",
          "iopub.status.idle": "2023-03-31T22:16:46.115266Z",
          "shell.execute_reply": "2023-03-31T22:16:46.114097Z"
        },
        "id": "ed2bbe13",
        "papermill": {
          "duration": 0.033186,
          "end_time": "2023-03-31T22:16:46.117647",
          "exception": false,
          "start_time": "2023-03-31T22:16:46.084461",
          "status": "completed"
        },
        "tags": []
      },
      "outputs": [],
      "source": [
        "total_loss = np.array(total_loss, dtype=np.float32)"
      ]
    },
    {
      "cell_type": "code",
      "execution_count": null,
      "id": "9e4e7686",
      "metadata": {
        "execution": {
          "iopub.execute_input": "2023-03-31T22:16:46.170002Z",
          "iopub.status.busy": "2023-03-31T22:16:46.169570Z",
          "iopub.status.idle": "2023-03-31T22:16:46.510868Z",
          "shell.execute_reply": "2023-03-31T22:16:46.509516Z"
        },
        "id": "9e4e7686",
        "papermill": {
          "duration": 0.372006,
          "end_time": "2023-03-31T22:16:46.513479",
          "exception": false,
          "start_time": "2023-03-31T22:16:46.141473",
          "status": "completed"
        },
        "tags": [],
        "outputId": "be8762f5-286b-415f-b199-4044d674a869"
      },
      "outputs": [
        {
          "data": {
            "image/png": "[encoded data removed]",
            "text/plain": [
              "<Figure size 640x480 with 1 Axes>"
            ]
          },
          "metadata": {},
          "output_type": "display_data"
        }
      ],
      "source": [
        "plt.figure()\n",
        "plt.xlabel(\"epoch\")\n",
        "plt.ylabel(\"loss\")\n",
        "plt.plot(total_loss[:,0], '-', label=\"train\")\n",
        "plt.plot(total_loss[:,1], '-', label=\"val\")\n",
        "plt.legend()\n",
        "plt.grid(True)\n",
        "plt.show()"
      ]
    },
    {
      "cell_type": "markdown",
      "id": "932dce11",
      "metadata": {
        "id": "932dce11",
        "papermill": {
          "duration": 0.025374,
          "end_time": "2023-03-31T22:16:46.564346",
          "exception": false,
          "start_time": "2023-03-31T22:16:46.538972",
          "status": "completed"
        },
        "tags": []
      },
      "source": [
        "## Performance Evaluation"
      ]
    },
    {
      "cell_type": "code",
      "execution_count": null,
      "id": "b7d781b7",
      "metadata": {
        "execution": {
          "iopub.execute_input": "2023-03-31T22:16:46.617772Z",
          "iopub.status.busy": "2023-03-31T22:16:46.616347Z",
          "iopub.status.idle": "2023-03-31T22:16:51.261180Z",
          "shell.execute_reply": "2023-03-31T22:16:51.260241Z"
        },
        "id": "b7d781b7",
        "papermill": {
          "duration": 4.674509,
          "end_time": "2023-03-31T22:16:51.263952",
          "exception": false,
          "start_time": "2023-03-31T22:16:46.589443",
          "status": "completed"
        },
        "tags": []
      },
      "outputs": [],
      "source": [
        "prediction = []\n",
        "model.eval()\n",
        "with torch.no_grad():\n",
        "    for sample_batched in val_loader:\n",
        "        sample_batched = sample_batched.to(device)\n",
        "        outputs = model(sample_batched).detach().cpu().numpy()\n",
        "        prediction.append(outputs)\n",
        "prediction = np.concatenate(prediction)"
      ]
    },
    {
      "cell_type": "code",
      "execution_count": null,
      "id": "3862bad7",
      "metadata": {
        "execution": {
          "iopub.execute_input": "2023-03-31T22:16:51.317893Z",
          "iopub.status.busy": "2023-03-31T22:16:51.317461Z",
          "iopub.status.idle": "2023-03-31T22:16:51.324093Z",
          "shell.execute_reply": "2023-03-31T22:16:51.323022Z"
        },
        "id": "3862bad7",
        "papermill": {
          "duration": 0.036431,
          "end_time": "2023-03-31T22:16:51.326553",
          "exception": false,
          "start_time": "2023-03-31T22:16:51.290122",
          "status": "completed"
        },
        "tags": [],
        "outputId": "269b4cd1-b531-429d-fb18-cba7f32ea94b"
      },
      "outputs": [
        {
          "data": {
            "text/plain": [
              "(1216, 30)"
            ]
          },
          "execution_count": 29,
          "metadata": {},
          "output_type": "execute_result"
        }
      ],
      "source": [
        "prediction.shape"
      ]
    },
    {
      "cell_type": "code",
      "execution_count": null,
      "id": "405bd1de",
      "metadata": {
        "execution": {
          "iopub.execute_input": "2023-03-31T22:16:51.378781Z",
          "iopub.status.busy": "2023-03-31T22:16:51.378400Z",
          "iopub.status.idle": "2023-03-31T22:16:51.383951Z",
          "shell.execute_reply": "2023-03-31T22:16:51.382688Z"
        },
        "id": "405bd1de",
        "papermill": {
          "duration": 0.034308,
          "end_time": "2023-03-31T22:16:51.386150",
          "exception": false,
          "start_time": "2023-03-31T22:16:51.351842",
          "status": "completed"
        },
        "tags": []
      },
      "outputs": [],
      "source": [
        "g=pd.DataFrame(prediction, columns=df_train.columns[-30:])"
      ]
    },
    {
      "cell_type": "code",
      "execution_count": null,
      "id": "971c2c42",
      "metadata": {
        "execution": {
          "iopub.execute_input": "2023-03-31T22:16:51.437964Z",
          "iopub.status.busy": "2023-03-31T22:16:51.437500Z",
          "iopub.status.idle": "2023-03-31T22:16:51.443376Z",
          "shell.execute_reply": "2023-03-31T22:16:51.442116Z"
        },
        "id": "971c2c42",
        "papermill": {
          "duration": 0.034369,
          "end_time": "2023-03-31T22:16:51.445684",
          "exception": false,
          "start_time": "2023-03-31T22:16:51.411315",
          "status": "completed"
        },
        "tags": []
      },
      "outputs": [],
      "source": [
        "l=list(g[\"question_conversational\"].values)"
      ]
    },
    {
      "cell_type": "code",
      "execution_count": null,
      "id": "aef75134",
      "metadata": {
        "execution": {
          "iopub.execute_input": "2023-03-31T22:16:51.497916Z",
          "iopub.status.busy": "2023-03-31T22:16:51.497469Z",
          "iopub.status.idle": "2023-03-31T22:16:55.936278Z",
          "shell.execute_reply": "2023-03-31T22:16:55.935023Z"
        },
        "id": "aef75134",
        "papermill": {
          "duration": 4.467881,
          "end_time": "2023-03-31T22:16:55.938536",
          "exception": false,
          "start_time": "2023-03-31T22:16:51.470655",
          "status": "completed"
        },
        "tags": [],
        "outputId": "26d9b38b-8fb0-4d2d-841a-837ab7608980"
      },
      "outputs": [
        {
          "data": {
            "text/plain": [
              "0.0005027111068269924"
            ]
          },
          "execution_count": 32,
          "metadata": {},
          "output_type": "execute_result"
        }
      ],
      "source": [
        "def calculate_mse(model, dataloader):\n",
        "    mse = 0\n",
        "    with torch.no_grad():\n",
        "        for sample_batched in dataloader:\n",
        "            sample_batched = sample_batched.to(device)\n",
        "            outputs = model(sample_batched)\n",
        "            #print(outputs.shape)\n",
        "            label = sample_batched.y.to(device)\n",
        "            mse += ((outputs - label)**2).mean().item()\n",
        "    return mse / len(dataloader.dataset)\n",
        "\n",
        "calculate_mse(model, val_loader)"
      ]
    },
    {
      "cell_type": "code",
      "execution_count": null,
      "id": "74eac9d1",
      "metadata": {
        "execution": {
          "iopub.execute_input": "2023-03-31T22:16:55.992033Z",
          "iopub.status.busy": "2023-03-31T22:16:55.991607Z",
          "iopub.status.idle": "2023-03-31T22:17:14.488978Z",
          "shell.execute_reply": "2023-03-31T22:17:14.487754Z"
        },
        "id": "74eac9d1",
        "papermill": {
          "duration": 18.527796,
          "end_time": "2023-03-31T22:17:14.491910",
          "exception": false,
          "start_time": "2023-03-31T22:16:55.964114",
          "status": "completed"
        },
        "tags": [],
        "outputId": "b4f68bff-50c7-42a8-f63a-1481422f033c"
      },
      "outputs": [
        {
          "data": {
            "text/plain": [
              "0.0004588304470160506"
            ]
          },
          "execution_count": 33,
          "metadata": {},
          "output_type": "execute_result"
        }
      ],
      "source": [
        "calculate_mse(model, train_loader)"
      ]
    },
    {
      "cell_type": "code",
      "execution_count": null,
      "id": "f340ad59",
      "metadata": {
        "execution": {
          "iopub.execute_input": "2023-03-31T22:17:14.546343Z",
          "iopub.status.busy": "2023-03-31T22:17:14.545897Z",
          "iopub.status.idle": "2023-03-31T22:17:18.929879Z",
          "shell.execute_reply": "2023-03-31T22:17:18.928956Z"
        },
        "id": "f340ad59",
        "papermill": {
          "duration": 4.413172,
          "end_time": "2023-03-31T22:17:18.932160",
          "exception": false,
          "start_time": "2023-03-31T22:17:14.518988",
          "status": "completed"
        },
        "tags": [],
        "outputId": "50a9fe8c-466c-486a-821f-a34802e6e5d4"
      },
      "outputs": [
        {
          "data": {
            "text/plain": [
              "0.6441478431224823"
            ]
          },
          "execution_count": 34,
          "metadata": {},
          "output_type": "execute_result"
        }
      ],
      "source": [
        "def calculate_r2(model, dataloader):\n",
        "    y_true = []\n",
        "    y_pred = []\n",
        "    with torch.no_grad():\n",
        "        for sample_batched in dataloader:\n",
        "            sample_batched = sample_batched.to(device)\n",
        "            outputs = model(sample_batched)\n",
        "            label = sample_batched.y.to(device)\n",
        "            y_true.extend(label.cpu().numpy())\n",
        "            \n",
        "            y_pred.extend(outputs.cpu().numpy())\n",
        "        \n",
        "    y_true = np.array(y_true) #[5,6,7]#one row \n",
        "    y_pred = np.array(y_pred) #[6,7,8]#one row \n",
        "    ss_res = ((y_true - y_pred)**2).sum() \n",
        "    ss_tot = ((y_true - y_true.mean())**2).sum()\n",
        "    r2 = 1 - (ss_res / ss_tot)\n",
        "    # print(y_true.shape)\n",
        "    # print(y_pred.shape)\n",
        "    return r2\n",
        "\n",
        "\n",
        "calculate_r2(model, val_loader)"
      ]
    },
    {
      "cell_type": "code",
      "execution_count": null,
      "id": "83836d26",
      "metadata": {
        "execution": {
          "iopub.execute_input": "2023-03-31T22:17:18.986771Z",
          "iopub.status.busy": "2023-03-31T22:17:18.985982Z",
          "iopub.status.idle": "2023-03-31T22:17:37.702524Z",
          "shell.execute_reply": "2023-03-31T22:17:37.701585Z"
        },
        "id": "83836d26",
        "papermill": {
          "duration": 18.746237,
          "end_time": "2023-03-31T22:17:37.704822",
          "exception": false,
          "start_time": "2023-03-31T22:17:18.958585",
          "status": "completed"
        },
        "tags": [],
        "outputId": "1bfad0a5-3a32-4082-ae1e-ea19bfb2064f"
      },
      "outputs": [
        {
          "data": {
            "text/plain": [
              "0.6570224761962891"
            ]
          },
          "execution_count": 35,
          "metadata": {},
          "output_type": "execute_result"
        }
      ],
      "source": [
        "calculate_r2(model, train_loader)"
      ]
    },
    {
      "cell_type": "code",
      "source": [
        "class MyTestDataset(InMemoryDataset):\n",
        "    def __init__(self, root, transform=None, pre_transform=None, pre_filter=None):\n",
        "        super().__init__(root, transform, pre_transform, pre_filter)\n",
        "\n",
        "        self.data, self.slices = torch.load(self.processed_paths[0])\n",
        "\n",
        "    @property\n",
        "    def raw_dir(self):\n",
        "        return \"/kaggle/input/modified-google-quest\"\n",
        "\n",
        "    @property\n",
        "    def processed_dir(self):\n",
        "        return os.path.join(self.root, \"test_processed\")\n",
        "    \n",
        "    @property\n",
        "    def raw_file_names(self):\n",
        "        return ['NewTest.csv']\n",
        "\n",
        "    @property\n",
        "    def processed_file_names(self):\n",
        "        return ['test-data.pt']\n",
        "\n",
        "    def download(self):\n",
        "        pass\n",
        "\n",
        "    def process(self):\n",
        "\n",
        "        data_list = self.read_data()\n",
        "\n",
        "        if self.pre_filter is not None:\n",
        "            data_list = [data for data in data_list if self.pre_filter(data)]\n",
        "\n",
        "        if self.pre_transform is not None:\n",
        "            data_list = [self.pre_transform(data) for data in data_list]\n",
        "\n",
        "        data, slices = self.collate(data_list)\n",
        "        torch.save((data, slices), self.processed_paths[0])\n",
        "\n",
        "    def read_data(self):\n",
        "        df_test = pd.read_csv(self.raw_paths[0])\n",
        "        all_data = []\n",
        "        for i in range(df_test.shape[0]):\n",
        "            text = df_test.question_body[i].lower().replace(\"\\n\", \"\").strip()\n",
        "            doc = tokenizer.text_to_doc(text)\n",
        "            input_ids = tokenizer.doc_to_sequence(doc)\n",
        "\n",
        "            x = torch.tensor(input_ids.reshape(-1, 1), dtype=torch.int32)\n",
        "            edge_index  = torch.tensor(test_idx2graph[i], dtype=torch.long)\n",
        "            data = Data(x=x, edge_index=edge_index)\n",
        "\n",
        "            all_data.append(data)\n",
        "        return all_data"
      ],
      "metadata": {
        "id": "qfWZOOZjgynW"
      },
      "id": "qfWZOOZjgynW",
      "execution_count": null,
      "outputs": []
    },
    {
      "cell_type": "code",
      "execution_count": null,
      "metadata": {
        "execution": {
          "iopub.execute_input": "2023-03-27T18:38:28.603544Z",
          "iopub.status.busy": "2023-03-27T18:38:28.603225Z",
          "iopub.status.idle": "2023-03-27T18:38:50.073031Z",
          "shell.execute_reply": "2023-03-27T18:38:50.070944Z"
        },
        "id": "f29839c2",
        "papermill": {
          "duration": 21.497446,
          "end_time": "2023-03-27T18:38:50.075305",
          "exception": false,
          "start_time": "2023-03-27T18:38:28.577859",
          "status": "completed"
        },
        "tags": [],
        "outputId": "ba0186b5-4cdf-4eb8-d131-7e58d53685c8"
      },
      "outputs": [
        {
          "name": "stderr",
          "output_type": "stream",
          "text": [
            "Processing...\n",
            "Done!\n"
          ]
        }
      ],
      "source": [
        "test_dataset = MyTestDataset(root='/kaggle/working/')"
      ],
      "id": "f29839c2"
    },
    {
      "cell_type": "code",
      "execution_count": null,
      "metadata": {
        "execution": {
          "iopub.execute_input": "2023-03-27T18:38:50.127648Z",
          "iopub.status.busy": "2023-03-27T18:38:50.126674Z",
          "iopub.status.idle": "2023-03-27T18:38:50.132145Z",
          "shell.execute_reply": "2023-03-27T18:38:50.131242Z"
        },
        "id": "d7921d48",
        "papermill": {
          "duration": 0.033642,
          "end_time": "2023-03-27T18:38:50.134308",
          "exception": false,
          "start_time": "2023-03-27T18:38:50.100666",
          "status": "completed"
        },
        "tags": []
      },
      "outputs": [],
      "source": [
        "test_loader = DataLoader(test_dataset, batch_size=128)"
      ],
      "id": "d7921d48"
    },
    {
      "cell_type": "code",
      "source": [
        "prediction = []\n",
        "model.eval()\n",
        "with torch.no_grad():\n",
        "    for sample_batched in test_loader:\n",
        "        sample_batched = sample_batched.to(device)\n",
        "        outputs = model(sample_batched).detach().cpu().numpy()\n",
        "        prediction.append(outputs)\n",
        "prediction = np.concatenate(prediction)"
      ],
      "metadata": {
        "id": "qOQyQobgg9rM"
      },
      "id": "qOQyQobgg9rM",
      "execution_count": null,
      "outputs": []
    },
    {
      "cell_type": "code",
      "source": [
        "pred_cols=df_train.columns[-30:]\n",
        "col = pd.concat([df_train['question_body'], pred_cols], axis=1)"
      ],
      "metadata": {
        "id": "L5tjGM79hAtR"
      },
      "id": "L5tjGM79hAtR",
      "execution_count": null,
      "outputs": []
    },
    {
      "cell_type": "code",
      "source": [
        "submission = pd.DataFrame(\n",
        "    data=prediction,\n",
        "    index=df_test.qa_id,\n",
        "    columns=col).reset_index()\n",
        "submission.head()"
      ],
      "metadata": {
        "colab": {
          "base_uri": "https://localhost:8080/",
          "height": 834
        },
        "outputId": "e4af8b3c-8586-496f-d26b-9be21f4adace",
        "id": "M_1cyQjxm3O_"
      },
      "execution_count": null,
      "outputs": [
        {
          "output_type": "execute_result",
          "data": {
            "text/plain": [
              "     qa_id                                      question_body  \\\n",
              "0       39  I see questions/information online about how t...   \n",
              "1       46  I am new to Wordpress. i have issue with Featu...   \n",
              "2       70  To experiment I started a bot game, toggled in...   \n",
              "3      132  I have used my Raspberry Pi as a torrent-serve...   \n",
              "4      200  I have bought Delhi-London return flights for ...   \n",
              "..     ...                                                ...   \n",
              "471   9569  I am using gb4e for glossing examples in my th...   \n",
              "472   9590  Source : Microsoft Interview Question\\n\\nWe ar...   \n",
              "473   9597  I am creating a time series database that foll...   \n",
              "474   9623  If I flashback Past in Flames and it is counte...   \n",
              "475   9640  Is there a way to mark friends you have queued...   \n",
              "\n",
              "     question_asker_intent_understanding  question_body_critical  \\\n",
              "0                               0.856624                0.580484   \n",
              "1                               0.892445                0.574393   \n",
              "2                               0.838212                0.633049   \n",
              "3                               0.897682                0.581682   \n",
              "4                               0.769170                0.573199   \n",
              "..                                   ...                     ...   \n",
              "471                             0.803142                0.588411   \n",
              "472                             0.776304                0.533631   \n",
              "473                             0.784833                0.484141   \n",
              "474                             0.853544                0.561112   \n",
              "475                             0.637516                0.441358   \n",
              "\n",
              "     question_conversational  question_expect_short_answer  \\\n",
              "0                          0                      0.575751   \n",
              "1                          0                      0.684056   \n",
              "2                          0                      0.686989   \n",
              "3                          0                      0.753373   \n",
              "4                          0                      0.645145   \n",
              "..                       ...                           ...   \n",
              "471                        0                      0.740808   \n",
              "472                        0                      0.703637   \n",
              "473                        0                      0.650358   \n",
              "474                        0                      0.669363   \n",
              "475                        0                      0.608651   \n",
              "\n",
              "     question_fact_seeking  question_has_commonly_accepted_answer  \\\n",
              "0                 0.714041                               0.636232   \n",
              "1                 0.711029                               0.748882   \n",
              "2                 0.748824                               0.764776   \n",
              "3                 0.844856                               0.941121   \n",
              "4                 0.669436                               0.633335   \n",
              "..                     ...                                    ...   \n",
              "471               0.815249                               0.857870   \n",
              "472               0.753560                               0.904070   \n",
              "473               0.727458                               0.787339   \n",
              "474               0.721675                               0.754590   \n",
              "475               0.621031                               0.643322   \n",
              "\n",
              "     question_interestingness_others  question_interestingness_self  ...  \\\n",
              "0                           0.608643                       0.516538  ...   \n",
              "1                           0.543234                       0.483077  ...   \n",
              "2                           0.552243                       0.460870  ...   \n",
              "3                           0.616089                       0.557795  ...   \n",
              "4                           0.542402                       0.441566  ...   \n",
              "..                               ...                            ...  ...   \n",
              "471                         0.544958                       0.477744  ...   \n",
              "472                         0.485077                       0.347539  ...   \n",
              "473                         0.554502                       0.450819  ...   \n",
              "474                         0.556912                       0.471004  ...   \n",
              "475                         0.444563                       0.272137  ...   \n",
              "\n",
              "     question_well_written  answer_helpful  answer_level_of_information  \\\n",
              "0                 0.799809        0.858994                     0.521074   \n",
              "1                 0.733278        0.848092                     0.650018   \n",
              "2                 0.809791        0.924300                     0.607432   \n",
              "3                 0.784911        1.041214                     0.798175   \n",
              "4                 0.701190        0.830111                     0.540561   \n",
              "..                     ...             ...                          ...   \n",
              "471               0.722894        0.950332                     0.700857   \n",
              "472               0.608377        0.858348                     0.698110   \n",
              "473               0.746482        0.816197                     0.626989   \n",
              "474               0.767945        0.882833                     0.625930   \n",
              "475               0.599755        0.644512                     0.503117   \n",
              "\n",
              "     answer_plausible  answer_relevance  answer_satisfaction  \\\n",
              "0            0.947188          0.908135             0.755710   \n",
              "1            0.897967          0.895094             0.862195   \n",
              "2            0.856148          0.944101             0.816101   \n",
              "3            0.981161          1.059767             0.932612   \n",
              "4            0.753725          0.850427             0.729222   \n",
              "..                ...               ...                  ...   \n",
              "471          0.870805          0.921798             0.784444   \n",
              "472          0.860640          0.892461             0.769591   \n",
              "473          0.888608          0.884617             0.838776   \n",
              "474          0.880796          0.967866             0.830751   \n",
              "475          0.631226          0.775475             0.676310   \n",
              "\n",
              "     answer_type_instructions  answer_type_procedure  \\\n",
              "0                    0.325913               0.000000   \n",
              "1                    0.416769               0.000000   \n",
              "2                    0.436777               0.000000   \n",
              "3                    0.702079               0.048403   \n",
              "4                    0.366707               0.000000   \n",
              "..                        ...                    ...   \n",
              "471                  0.547107               0.088950   \n",
              "472                  0.730102               0.177098   \n",
              "473                  0.523373               0.000000   \n",
              "474                  0.442274               0.000000   \n",
              "475                  0.549591               0.026563   \n",
              "\n",
              "     answer_type_reason_explanation  answer_well_written  \n",
              "0                          0.600436             0.813440  \n",
              "1                          0.509254             0.820735  \n",
              "2                          0.415623             0.853636  \n",
              "3                          0.424309             0.991175  \n",
              "4                          0.451908             0.802878  \n",
              "..                              ...                  ...  \n",
              "471                        0.390841             0.817720  \n",
              "472                        0.222358             0.749262  \n",
              "473                        0.448919             0.849086  \n",
              "474                        0.471809             0.906141  \n",
              "475                        0.278671             0.702921  \n",
              "\n",
              "[476 rows x 32 columns]"
            ],
            "text/html": [
              "\n",
              "  <div id=\"df-7054f454-c9d2-4edd-9e2f-a2fb71277766\">\n",
              "    <div class=\"colab-df-container\">\n",
              "      <div>\n",
              "<style scoped>\n",
              "    .dataframe tbody tr th:only-of-type {\n",
              "        vertical-align: middle;\n",
              "    }\n",
              "\n",
              "    .dataframe tbody tr th {\n",
              "        vertical-align: top;\n",
              "    }\n",
              "\n",
              "    .dataframe thead th {\n",
              "        text-align: right;\n",
              "    }\n",
              "</style>\n",
              "<table border=\"1\" class=\"dataframe\">\n",
              "  <thead>\n",
              "    <tr style=\"text-align: right;\">\n",
              "      <th></th>\n",
              "      <th>qa_id</th>\n",
              "      <th>question_body</th>\n",
              "      <th>question_asker_intent_understanding</th>\n",
              "      <th>question_body_critical</th>\n",
              "      <th>question_conversational</th>\n",
              "      <th>question_expect_short_answer</th>\n",
              "      <th>question_fact_seeking</th>\n",
              "      <th>question_has_commonly_accepted_answer</th>\n",
              "      <th>question_interestingness_others</th>\n",
              "      <th>question_interestingness_self</th>\n",
              "      <th>...</th>\n",
              "      <th>question_well_written</th>\n",
              "      <th>answer_helpful</th>\n",
              "      <th>answer_level_of_information</th>\n",
              "      <th>answer_plausible</th>\n",
              "      <th>answer_relevance</th>\n",
              "      <th>answer_satisfaction</th>\n",
              "      <th>answer_type_instructions</th>\n",
              "      <th>answer_type_procedure</th>\n",
              "      <th>answer_type_reason_explanation</th>\n",
              "      <th>answer_well_written</th>\n",
              "    </tr>\n",
              "  </thead>\n",
              "  <tbody>\n",
              "    <tr>\n",
              "      <th>0</th>\n",
              "      <td>39</td>\n",
              "      <td>I see questions/information online about how t...</td>\n",
              "      <td>0.856624</td>\n",
              "      <td>0.580484</td>\n",
              "      <td>0</td>\n",
              "      <td>0.575751</td>\n",
              "      <td>0.714041</td>\n",
              "      <td>0.636232</td>\n",
              "      <td>0.608643</td>\n",
              "      <td>0.516538</td>\n",
              "      <td>...</td>\n",
              "      <td>0.799809</td>\n",
              "      <td>0.858994</td>\n",
              "      <td>0.521074</td>\n",
              "      <td>0.947188</td>\n",
              "      <td>0.908135</td>\n",
              "      <td>0.755710</td>\n",
              "      <td>0.325913</td>\n",
              "      <td>0.000000</td>\n",
              "      <td>0.600436</td>\n",
              "      <td>0.813440</td>\n",
              "    </tr>\n",
              "    <tr>\n",
              "      <th>1</th>\n",
              "      <td>46</td>\n",
              "      <td>I am new to Wordpress. i have issue with Featu...</td>\n",
              "      <td>0.892445</td>\n",
              "      <td>0.574393</td>\n",
              "      <td>0</td>\n",
              "      <td>0.684056</td>\n",
              "      <td>0.711029</td>\n",
              "      <td>0.748882</td>\n",
              "      <td>0.543234</td>\n",
              "      <td>0.483077</td>\n",
              "      <td>...</td>\n",
              "      <td>0.733278</td>\n",
              "      <td>0.848092</td>\n",
              "      <td>0.650018</td>\n",
              "      <td>0.897967</td>\n",
              "      <td>0.895094</td>\n",
              "      <td>0.862195</td>\n",
              "      <td>0.416769</td>\n",
              "      <td>0.000000</td>\n",
              "      <td>0.509254</td>\n",
              "      <td>0.820735</td>\n",
              "    </tr>\n",
              "    <tr>\n",
              "      <th>2</th>\n",
              "      <td>70</td>\n",
              "      <td>To experiment I started a bot game, toggled in...</td>\n",
              "      <td>0.838212</td>\n",
              "      <td>0.633049</td>\n",
              "      <td>0</td>\n",
              "      <td>0.686989</td>\n",
              "      <td>0.748824</td>\n",
              "      <td>0.764776</td>\n",
              "      <td>0.552243</td>\n",
              "      <td>0.460870</td>\n",
              "      <td>...</td>\n",
              "      <td>0.809791</td>\n",
              "      <td>0.924300</td>\n",
              "      <td>0.607432</td>\n",
              "      <td>0.856148</td>\n",
              "      <td>0.944101</td>\n",
              "      <td>0.816101</td>\n",
              "      <td>0.436777</td>\n",
              "      <td>0.000000</td>\n",
              "      <td>0.415623</td>\n",
              "      <td>0.853636</td>\n",
              "    </tr>\n",
              "    <tr>\n",
              "      <th>3</th>\n",
              "      <td>132</td>\n",
              "      <td>I have used my Raspberry Pi as a torrent-serve...</td>\n",
              "      <td>0.897682</td>\n",
              "      <td>0.581682</td>\n",
              "      <td>0</td>\n",
              "      <td>0.753373</td>\n",
              "      <td>0.844856</td>\n",
              "      <td>0.941121</td>\n",
              "      <td>0.616089</td>\n",
              "      <td>0.557795</td>\n",
              "      <td>...</td>\n",
              "      <td>0.784911</td>\n",
              "      <td>1.041214</td>\n",
              "      <td>0.798175</td>\n",
              "      <td>0.981161</td>\n",
              "      <td>1.059767</td>\n",
              "      <td>0.932612</td>\n",
              "      <td>0.702079</td>\n",
              "      <td>0.048403</td>\n",
              "      <td>0.424309</td>\n",
              "      <td>0.991175</td>\n",
              "    </tr>\n",
              "    <tr>\n",
              "      <th>4</th>\n",
              "      <td>200</td>\n",
              "      <td>I have bought Delhi-London return flights for ...</td>\n",
              "      <td>0.769170</td>\n",
              "      <td>0.573199</td>\n",
              "      <td>0</td>\n",
              "      <td>0.645145</td>\n",
              "      <td>0.669436</td>\n",
              "      <td>0.633335</td>\n",
              "      <td>0.542402</td>\n",
              "      <td>0.441566</td>\n",
              "      <td>...</td>\n",
              "      <td>0.701190</td>\n",
              "      <td>0.830111</td>\n",
              "      <td>0.540561</td>\n",
              "      <td>0.753725</td>\n",
              "      <td>0.850427</td>\n",
              "      <td>0.729222</td>\n",
              "      <td>0.366707</td>\n",
              "      <td>0.000000</td>\n",
              "      <td>0.451908</td>\n",
              "      <td>0.802878</td>\n",
              "    </tr>\n",
              "    <tr>\n",
              "      <th>...</th>\n",
              "      <td>...</td>\n",
              "      <td>...</td>\n",
              "      <td>...</td>\n",
              "      <td>...</td>\n",
              "      <td>...</td>\n",
              "      <td>...</td>\n",
              "      <td>...</td>\n",
              "      <td>...</td>\n",
              "      <td>...</td>\n",
              "      <td>...</td>\n",
              "      <td>...</td>\n",
              "      <td>...</td>\n",
              "      <td>...</td>\n",
              "      <td>...</td>\n",
              "      <td>...</td>\n",
              "      <td>...</td>\n",
              "      <td>...</td>\n",
              "      <td>...</td>\n",
              "      <td>...</td>\n",
              "      <td>...</td>\n",
              "      <td>...</td>\n",
              "    </tr>\n",
              "    <tr>\n",
              "      <th>471</th>\n",
              "      <td>9569</td>\n",
              "      <td>I am using gb4e for glossing examples in my th...</td>\n",
              "      <td>0.803142</td>\n",
              "      <td>0.588411</td>\n",
              "      <td>0</td>\n",
              "      <td>0.740808</td>\n",
              "      <td>0.815249</td>\n",
              "      <td>0.857870</td>\n",
              "      <td>0.544958</td>\n",
              "      <td>0.477744</td>\n",
              "      <td>...</td>\n",
              "      <td>0.722894</td>\n",
              "      <td>0.950332</td>\n",
              "      <td>0.700857</td>\n",
              "      <td>0.870805</td>\n",
              "      <td>0.921798</td>\n",
              "      <td>0.784444</td>\n",
              "      <td>0.547107</td>\n",
              "      <td>0.088950</td>\n",
              "      <td>0.390841</td>\n",
              "      <td>0.817720</td>\n",
              "    </tr>\n",
              "    <tr>\n",
              "      <th>472</th>\n",
              "      <td>9590</td>\n",
              "      <td>Source : Microsoft Interview Question\\n\\nWe ar...</td>\n",
              "      <td>0.776304</td>\n",
              "      <td>0.533631</td>\n",
              "      <td>0</td>\n",
              "      <td>0.703637</td>\n",
              "      <td>0.753560</td>\n",
              "      <td>0.904070</td>\n",
              "      <td>0.485077</td>\n",
              "      <td>0.347539</td>\n",
              "      <td>...</td>\n",
              "      <td>0.608377</td>\n",
              "      <td>0.858348</td>\n",
              "      <td>0.698110</td>\n",
              "      <td>0.860640</td>\n",
              "      <td>0.892461</td>\n",
              "      <td>0.769591</td>\n",
              "      <td>0.730102</td>\n",
              "      <td>0.177098</td>\n",
              "      <td>0.222358</td>\n",
              "      <td>0.749262</td>\n",
              "    </tr>\n",
              "    <tr>\n",
              "      <th>473</th>\n",
              "      <td>9597</td>\n",
              "      <td>I am creating a time series database that foll...</td>\n",
              "      <td>0.784833</td>\n",
              "      <td>0.484141</td>\n",
              "      <td>0</td>\n",
              "      <td>0.650358</td>\n",
              "      <td>0.727458</td>\n",
              "      <td>0.787339</td>\n",
              "      <td>0.554502</td>\n",
              "      <td>0.450819</td>\n",
              "      <td>...</td>\n",
              "      <td>0.746482</td>\n",
              "      <td>0.816197</td>\n",
              "      <td>0.626989</td>\n",
              "      <td>0.888608</td>\n",
              "      <td>0.884617</td>\n",
              "      <td>0.838776</td>\n",
              "      <td>0.523373</td>\n",
              "      <td>0.000000</td>\n",
              "      <td>0.448919</td>\n",
              "      <td>0.849086</td>\n",
              "    </tr>\n",
              "    <tr>\n",
              "      <th>474</th>\n",
              "      <td>9623</td>\n",
              "      <td>If I flashback Past in Flames and it is counte...</td>\n",
              "      <td>0.853544</td>\n",
              "      <td>0.561112</td>\n",
              "      <td>0</td>\n",
              "      <td>0.669363</td>\n",
              "      <td>0.721675</td>\n",
              "      <td>0.754590</td>\n",
              "      <td>0.556912</td>\n",
              "      <td>0.471004</td>\n",
              "      <td>...</td>\n",
              "      <td>0.767945</td>\n",
              "      <td>0.882833</td>\n",
              "      <td>0.625930</td>\n",
              "      <td>0.880796</td>\n",
              "      <td>0.967866</td>\n",
              "      <td>0.830751</td>\n",
              "      <td>0.442274</td>\n",
              "      <td>0.000000</td>\n",
              "      <td>0.471809</td>\n",
              "      <td>0.906141</td>\n",
              "    </tr>\n",
              "    <tr>\n",
              "      <th>475</th>\n",
              "      <td>9640</td>\n",
              "      <td>Is there a way to mark friends you have queued...</td>\n",
              "      <td>0.637516</td>\n",
              "      <td>0.441358</td>\n",
              "      <td>0</td>\n",
              "      <td>0.608651</td>\n",
              "      <td>0.621031</td>\n",
              "      <td>0.643322</td>\n",
              "      <td>0.444563</td>\n",
              "      <td>0.272137</td>\n",
              "      <td>...</td>\n",
              "      <td>0.599755</td>\n",
              "      <td>0.644512</td>\n",
              "      <td>0.503117</td>\n",
              "      <td>0.631226</td>\n",
              "      <td>0.775475</td>\n",
              "      <td>0.676310</td>\n",
              "      <td>0.549591</td>\n",
              "      <td>0.026563</td>\n",
              "      <td>0.278671</td>\n",
              "      <td>0.702921</td>\n",
              "    </tr>\n",
              "  </tbody>\n",
              "</table>\n",
              "<p>476 rows × 32 columns</p>\n",
              "</div>\n",
              "      <button class=\"colab-df-convert\" onclick=\"convertToInteractive('df-7054f454-c9d2-4edd-9e2f-a2fb71277766')\"\n",
              "              title=\"Convert this dataframe to an interactive table.\"\n",
              "              style=\"display:none;\">\n",
              "        \n",
              "  <svg xmlns=\"http://www.w3.org/2000/svg\" height=\"24px\"viewBox=\"0 0 24 24\"\n",
              "       width=\"24px\">\n",
              "    <path d=\"M0 0h24v24H0V0z\" fill=\"none\"/>\n",
              "    <path d=\"M18.56 5.44l.94 2.06.94-2.06 2.06-.94-2.06-.94-.94-2.06-.94 2.06-2.06.94zm-11 1L8.5 8.5l.94-2.06 2.06-.94-2.06-.94L8.5 2.5l-.94 2.06-2.06.94zm10 10l.94 2.06.94-2.06 2.06-.94-2.06-.94-.94-2.06-.94 2.06-2.06.94z\"/><path d=\"M17.41 7.96l-1.37-1.37c-.4-.4-.92-.59-1.43-.59-.52 0-1.04.2-1.43.59L10.3 9.45l-7.72 7.72c-.78.78-.78 2.05 0 2.83L4 21.41c.39.39.9.59 1.41.59.51 0 1.02-.2 1.41-.59l7.78-7.78 2.81-2.81c.8-.78.8-2.07 0-2.86zM5.41 20L4 18.59l7.72-7.72 1.47 1.35L5.41 20z\"/>\n",
              "  </svg>\n",
              "      </button>\n",
              "      \n",
              "  <style>\n",
              "    .colab-df-container {\n",
              "      display:flex;\n",
              "      flex-wrap:wrap;\n",
              "      gap: 12px;\n",
              "    }\n",
              "\n",
              "    .colab-df-convert {\n",
              "      background-color: #E8F0FE;\n",
              "      border: none;\n",
              "      border-radius: 50%;\n",
              "      cursor: pointer;\n",
              "      display: none;\n",
              "      fill: #1967D2;\n",
              "      height: 32px;\n",
              "      padding: 0 0 0 0;\n",
              "      width: 32px;\n",
              "    }\n",
              "\n",
              "    .colab-df-convert:hover {\n",
              "      background-color: #E2EBFA;\n",
              "      box-shadow: 0px 1px 2px rgba(60, 64, 67, 0.3), 0px 1px 3px 1px rgba(60, 64, 67, 0.15);\n",
              "      fill: #174EA6;\n",
              "    }\n",
              "\n",
              "    [theme=dark] .colab-df-convert {\n",
              "      background-color: #3B4455;\n",
              "      fill: #D2E3FC;\n",
              "    }\n",
              "\n",
              "    [theme=dark] .colab-df-convert:hover {\n",
              "      background-color: #434B5C;\n",
              "      box-shadow: 0px 1px 3px 1px rgba(0, 0, 0, 0.15);\n",
              "      filter: drop-shadow(0px 1px 2px rgba(0, 0, 0, 0.3));\n",
              "      fill: #FFFFFF;\n",
              "    }\n",
              "  </style>\n",
              "\n",
              "      <script>\n",
              "        const buttonEl =\n",
              "          document.querySelector('#df-7054f454-c9d2-4edd-9e2f-a2fb71277766 button.colab-df-convert');\n",
              "        buttonEl.style.display =\n",
              "          google.colab.kernel.accessAllowed ? 'block' : 'none';\n",
              "\n",
              "        async function convertToInteractive(key) {\n",
              "          const element = document.querySelector('#df-7054f454-c9d2-4edd-9e2f-a2fb71277766');\n",
              "          const dataTable =\n",
              "            await google.colab.kernel.invokeFunction('convertToInteractive',\n",
              "                                                     [key], {});\n",
              "          if (!dataTable) return;\n",
              "\n",
              "          const docLinkHtml = 'Like what you see? Visit the ' +\n",
              "            '<a target=\"_blank\" href=https://colab.research.google.com/notebooks/data_table.ipynb>data table notebook</a>'\n",
              "            + ' to learn more about interactive tables.';\n",
              "          element.innerHTML = '';\n",
              "          dataTable['output_type'] = 'display_data';\n",
              "          await google.colab.output.renderOutput(dataTable, element);\n",
              "          const docLink = document.createElement('div');\n",
              "          docLink.innerHTML = docLinkHtml;\n",
              "          element.appendChild(docLink);\n",
              "        }\n",
              "      </script>\n",
              "    </div>\n",
              "  </div>\n",
              "  "
            ]
          },
          "metadata": {},
          "execution_count": 13
        }
      ],
      "id": "M_1cyQjxm3O_"
    },
    {
      "cell_type": "code",
      "source": [
        "submission.to_csv(\"submission.csv\",index=False)"
      ],
      "metadata": {
        "id": "uqb0idn2hAnb"
      },
      "id": "uqb0idn2hAnb",
      "execution_count": null,
      "outputs": []
    }
  ],
  "metadata": {
    "kernelspec": {
      "display_name": "Python 3",
      "language": "python",
      "name": "python3"
    },
    "language_info": {
      "codemirror_mode": {
        "name": "ipython",
        "version": 3
      },
      "file_extension": ".py",
      "mimetype": "text/x-python",
      "name": "python",
      "nbconvert_exporter": "python",
      "pygments_lexer": "ipython3",
      "version": "3.7.12"
    },
    "papermill": {
      "default_parameters": {},
      "duration": 9795.830873,
      "end_time": "2023-03-31T22:17:40.782519",
      "environment_variables": {},
      "exception": null,
      "input_path": "__notebook__.ipynb",
      "output_path": "__notebook__.ipynb",
      "parameters": {},
      "start_time": "2023-03-31T19:34:24.951646",
      "version": "2.4.0"
    },
    "colab": {
      "provenance": []
    },
    "widgets": {
      "application/vnd.jupyter.widget-state+json": {
        "7809cd5eab6140d69422bf7a8b4bacc8": {
          "model_module": "@jupyter-widgets/controls",
          "model_name": "HBoxModel",
          "model_module_version": "1.5.0",
          "state": {
            "_dom_classes": [],
            "_model_module": "@jupyter-widgets/controls",
            "_model_module_version": "1.5.0",
            "_model_name": "HBoxModel",
            "_view_count": null,
            "_view_module": "@jupyter-widgets/controls",
            "_view_module_version": "1.5.0",
            "_view_name": "HBoxView",
            "box_style": "",
            "children": [
              "IPY_MODEL_8d55f27f37d44eb0995ca5a26f794bd2",
              "IPY_MODEL_69babf2a55eb4a85a43f8b2be1f369f5",
              "IPY_MODEL_0fe31154fd694611830abb248eee20d4"
            ],
            "layout": "IPY_MODEL_12d7f790ea194da8a0455ec6c5443d4c"
          }
        },
        "8d55f27f37d44eb0995ca5a26f794bd2": {
          "model_module": "@jupyter-widgets/controls",
          "model_name": "HTMLModel",
          "model_module_version": "1.5.0",
          "state": {
            "_dom_classes": [],
            "_model_module": "@jupyter-widgets/controls",
            "_model_module_version": "1.5.0",
            "_model_name": "HTMLModel",
            "_view_count": null,
            "_view_module": "@jupyter-widgets/controls",
            "_view_module_version": "1.5.0",
            "_view_name": "HTMLView",
            "description": "",
            "description_tooltip": null,
            "layout": "IPY_MODEL_3c07c36e38574deb9f9e3ac4f4deda78",
            "placeholder": "​",
            "style": "IPY_MODEL_438148708881480bb4945413e7c013db",
            "value": "100%"
          }
        },
        "69babf2a55eb4a85a43f8b2be1f369f5": {
          "model_module": "@jupyter-widgets/controls",
          "model_name": "FloatProgressModel",
          "model_module_version": "1.5.0",
          "state": {
            "_dom_classes": [],
            "_model_module": "@jupyter-widgets/controls",
            "_model_module_version": "1.5.0",
            "_model_name": "FloatProgressModel",
            "_view_count": null,
            "_view_module": "@jupyter-widgets/controls",
            "_view_module_version": "1.5.0",
            "_view_name": "ProgressView",
            "bar_style": "success",
            "description": "",
            "description_tooltip": null,
            "layout": "IPY_MODEL_f09f7511e544436b89d82df4971f5024",
            "max": 6079,
            "min": 0,
            "orientation": "horizontal",
            "style": "IPY_MODEL_b6b9b6f38ea04fa2a93b9c22926cd052",
            "value": 6079
          }
        },
        "0fe31154fd694611830abb248eee20d4": {
          "model_module": "@jupyter-widgets/controls",
          "model_name": "HTMLModel",
          "model_module_version": "1.5.0",
          "state": {
            "_dom_classes": [],
            "_model_module": "@jupyter-widgets/controls",
            "_model_module_version": "1.5.0",
            "_model_name": "HTMLModel",
            "_view_count": null,
            "_view_module": "@jupyter-widgets/controls",
            "_view_module_version": "1.5.0",
            "_view_name": "HTMLView",
            "description": "",
            "description_tooltip": null,
            "layout": "IPY_MODEL_8ecb0555b64046e0a17b7ab93cbeb0d8",
            "placeholder": "​",
            "style": "IPY_MODEL_cb331d9c25284a20ab3e7dabfb9f4620",
            "value": " 6079/6079 [07:24&lt;00:00, 15.66it/s]"
          }
        },
        "12d7f790ea194da8a0455ec6c5443d4c": {
          "model_module": "@jupyter-widgets/base",
          "model_name": "LayoutModel",
          "model_module_version": "1.2.0",
          "state": {
            "_model_module": "@jupyter-widgets/base",
            "_model_module_version": "1.2.0",
            "_model_name": "LayoutModel",
            "_view_count": null,
            "_view_module": "@jupyter-widgets/base",
            "_view_module_version": "1.2.0",
            "_view_name": "LayoutView",
            "align_content": null,
            "align_items": null,
            "align_self": null,
            "border": null,
            "bottom": null,
            "display": null,
            "flex": null,
            "flex_flow": null,
            "grid_area": null,
            "grid_auto_columns": null,
            "grid_auto_flow": null,
            "grid_auto_rows": null,
            "grid_column": null,
            "grid_gap": null,
            "grid_row": null,
            "grid_template_areas": null,
            "grid_template_columns": null,
            "grid_template_rows": null,
            "height": null,
            "justify_content": null,
            "justify_items": null,
            "left": null,
            "margin": null,
            "max_height": null,
            "max_width": null,
            "min_height": null,
            "min_width": null,
            "object_fit": null,
            "object_position": null,
            "order": null,
            "overflow": null,
            "overflow_x": null,
            "overflow_y": null,
            "padding": null,
            "right": null,
            "top": null,
            "visibility": null,
            "width": null
          }
        },
        "3c07c36e38574deb9f9e3ac4f4deda78": {
          "model_module": "@jupyter-widgets/base",
          "model_name": "LayoutModel",
          "model_module_version": "1.2.0",
          "state": {
            "_model_module": "@jupyter-widgets/base",
            "_model_module_version": "1.2.0",
            "_model_name": "LayoutModel",
            "_view_count": null,
            "_view_module": "@jupyter-widgets/base",
            "_view_module_version": "1.2.0",
            "_view_name": "LayoutView",
            "align_content": null,
            "align_items": null,
            "align_self": null,
            "border": null,
            "bottom": null,
            "display": null,
            "flex": null,
            "flex_flow": null,
            "grid_area": null,
            "grid_auto_columns": null,
            "grid_auto_flow": null,
            "grid_auto_rows": null,
            "grid_column": null,
            "grid_gap": null,
            "grid_row": null,
            "grid_template_areas": null,
            "grid_template_columns": null,
            "grid_template_rows": null,
            "height": null,
            "justify_content": null,
            "justify_items": null,
            "left": null,
            "margin": null,
            "max_height": null,
            "max_width": null,
            "min_height": null,
            "min_width": null,
            "object_fit": null,
            "object_position": null,
            "order": null,
            "overflow": null,
            "overflow_x": null,
            "overflow_y": null,
            "padding": null,
            "right": null,
            "top": null,
            "visibility": null,
            "width": null
          }
        },
        "438148708881480bb4945413e7c013db": {
          "model_module": "@jupyter-widgets/controls",
          "model_name": "DescriptionStyleModel",
          "model_module_version": "1.5.0",
          "state": {
            "_model_module": "@jupyter-widgets/controls",
            "_model_module_version": "1.5.0",
            "_model_name": "DescriptionStyleModel",
            "_view_count": null,
            "_view_module": "@jupyter-widgets/base",
            "_view_module_version": "1.2.0",
            "_view_name": "StyleView",
            "description_width": ""
          }
        },
        "f09f7511e544436b89d82df4971f5024": {
          "model_module": "@jupyter-widgets/base",
          "model_name": "LayoutModel",
          "model_module_version": "1.2.0",
          "state": {
            "_model_module": "@jupyter-widgets/base",
            "_model_module_version": "1.2.0",
            "_model_name": "LayoutModel",
            "_view_count": null,
            "_view_module": "@jupyter-widgets/base",
            "_view_module_version": "1.2.0",
            "_view_name": "LayoutView",
            "align_content": null,
            "align_items": null,
            "align_self": null,
            "border": null,
            "bottom": null,
            "display": null,
            "flex": null,
            "flex_flow": null,
            "grid_area": null,
            "grid_auto_columns": null,
            "grid_auto_flow": null,
            "grid_auto_rows": null,
            "grid_column": null,
            "grid_gap": null,
            "grid_row": null,
            "grid_template_areas": null,
            "grid_template_columns": null,
            "grid_template_rows": null,
            "height": null,
            "justify_content": null,
            "justify_items": null,
            "left": null,
            "margin": null,
            "max_height": null,
            "max_width": null,
            "min_height": null,
            "min_width": null,
            "object_fit": null,
            "object_position": null,
            "order": null,
            "overflow": null,
            "overflow_x": null,
            "overflow_y": null,
            "padding": null,
            "right": null,
            "top": null,
            "visibility": null,
            "width": null
          }
        },
        "b6b9b6f38ea04fa2a93b9c22926cd052": {
          "model_module": "@jupyter-widgets/controls",
          "model_name": "ProgressStyleModel",
          "model_module_version": "1.5.0",
          "state": {
            "_model_module": "@jupyter-widgets/controls",
            "_model_module_version": "1.5.0",
            "_model_name": "ProgressStyleModel",
            "_view_count": null,
            "_view_module": "@jupyter-widgets/base",
            "_view_module_version": "1.2.0",
            "_view_name": "StyleView",
            "bar_color": null,
            "description_width": ""
          }
        },
        "8ecb0555b64046e0a17b7ab93cbeb0d8": {
          "model_module": "@jupyter-widgets/base",
          "model_name": "LayoutModel",
          "model_module_version": "1.2.0",
          "state": {
            "_model_module": "@jupyter-widgets/base",
            "_model_module_version": "1.2.0",
            "_model_name": "LayoutModel",
            "_view_count": null,
            "_view_module": "@jupyter-widgets/base",
            "_view_module_version": "1.2.0",
            "_view_name": "LayoutView",
            "align_content": null,
            "align_items": null,
            "align_self": null,
            "border": null,
            "bottom": null,
            "display": null,
            "flex": null,
            "flex_flow": null,
            "grid_area": null,
            "grid_auto_columns": null,
            "grid_auto_flow": null,
            "grid_auto_rows": null,
            "grid_column": null,
            "grid_gap": null,
            "grid_row": null,
            "grid_template_areas": null,
            "grid_template_columns": null,
            "grid_template_rows": null,
            "height": null,
            "justify_content": null,
            "justify_items": null,
            "left": null,
            "margin": null,
            "max_height": null,
            "max_width": null,
            "min_height": null,
            "min_width": null,
            "object_fit": null,
            "object_position": null,
            "order": null,
            "overflow": null,
            "overflow_x": null,
            "overflow_y": null,
            "padding": null,
            "right": null,
            "top": null,
            "visibility": null,
            "width": null
          }
        },
        "cb331d9c25284a20ab3e7dabfb9f4620": {
          "model_module": "@jupyter-widgets/controls",
          "model_name": "DescriptionStyleModel",
          "model_module_version": "1.5.0",
          "state": {
            "_model_module": "@jupyter-widgets/controls",
            "_model_module_version": "1.5.0",
            "_model_name": "DescriptionStyleModel",
            "_view_count": null,
            "_view_module": "@jupyter-widgets/base",
            "_view_module_version": "1.2.0",
            "_view_name": "StyleView",
            "description_width": ""
          }
        }
      }
    }
  },
  "nbformat": 4,
  "nbformat_minor": 5
}